{
 "cells": [
  {
   "cell_type": "code",
   "execution_count": 1,
   "metadata": {},
   "outputs": [
    {
     "data": {
      "text/plain": [
       "'from bs4 import BeautifulSoup\\nfrom selenium import webdriver\\nfrom selenium.webdriver.common.keys import Keys\\nfrom selenium.webdriver.common.by import By\\nimport time\\n\\nfor_sale = \\'/search/house/for-sale\\'\\nfor_rent = \\'/search/house/for-rent\\' \\nlist_of_districts = [\\'/brussels\\' ] #, \\'/wallonia\\', \\'/gent\\', \\'/namur\\', \\'/hainaut\\', \\'/liege , \\'/antwerp\\'\\'\\ndistricts = \\'/district\\'\\nend_url= \\'?countries=BE&page=1&orderBy=relevance\\'\\nroot_url = \\'https://www.immoweb.be/en\\'\\n\\ndriver = webdriver.Chrome()\\n\\n#shadow root - cookie\\ndriver.get(root_url)\\ntime.sleep(3)\\nelement = driver.execute_script(\"\"\"return document.querySelector(\\'#usercentrics-root\\').shadowRoot.querySelector(\"button[data-testid=\\'uc-accept-all-button\\']\")\"\"\")\\nelement.click()\\n\\ncurrent_link = root_url+for_sale+end_url\\nprint(current_link)\\n\\ndriver.get(current_link)\\ntime.sleep(3)\\n#print(current_link)\\n\\nsearch_results = driver.find_elements(By.CLASS_NAME, \"search-results__item\")\\n\\n\\nfor result in search_results:\\n\\n    try:\\n        # Click on each search result\\n        result.click()\\n        time.sleep(5)    \\n\\n        # Find and print the table text      \\n        search = driver.find_elements(By.CLASS_NAME, \\'classified-table__row\\')\\n        for x in search:\\n            print(x.text)\\n    \\n    except Exception as e:\\n        print(f\"Error occurred while processing search result: {e}\")\\n\\n    driver.back()\\n    time.sleep(3)\\ndriver.close() '"
      ]
     },
     "execution_count": 1,
     "metadata": {},
     "output_type": "execute_result"
    }
   ],
   "source": [
    "'''from bs4 import BeautifulSoup\n",
    "from selenium import webdriver\n",
    "from selenium.webdriver.common.keys import Keys\n",
    "from selenium.webdriver.common.by import By\n",
    "import time\n",
    "\n",
    "for_sale = '/search/house/for-sale'\n",
    "for_rent = '/search/house/for-rent' \n",
    "list_of_districts = ['/brussels' ] #, '/wallonia', '/gent', '/namur', '/hainaut', '/liege , '/antwerp''\n",
    "districts = '/district'\n",
    "end_url= '?countries=BE&page=1&orderBy=relevance'\n",
    "root_url = 'https://www.immoweb.be/en'\n",
    "\n",
    "driver = webdriver.Chrome()\n",
    "\n",
    "#shadow root - cookie\n",
    "driver.get(root_url)\n",
    "time.sleep(3)\n",
    "element = driver.execute_script(\"\"\"return document.querySelector('#usercentrics-root').shadowRoot.querySelector(\"button[data-testid='uc-accept-all-button']\")\"\"\")\n",
    "element.click()\n",
    "\n",
    "current_link = root_url+for_sale+end_url\n",
    "print(current_link)\n",
    "\n",
    "driver.get(current_link)\n",
    "time.sleep(3)\n",
    "#print(current_link)\n",
    "\n",
    "search_results = driver.find_elements(By.CLASS_NAME, \"search-results__item\")\n",
    "\n",
    "\n",
    "for result in search_results:\n",
    "\n",
    "    try:\n",
    "        # Click on each search result\n",
    "        result.click()\n",
    "        time.sleep(5)    \n",
    "\n",
    "        # Find and print the table text      \n",
    "        search = driver.find_elements(By.CLASS_NAME, 'classified-table__row')\n",
    "        for x in search:\n",
    "            print(x.text)\n",
    "    \n",
    "    except Exception as e:\n",
    "        print(f\"Error occurred while processing search result: {e}\")\n",
    "\n",
    "    driver.back()\n",
    "    time.sleep(3)\n",
    "driver.close() '''"
   ]
  },
  {
   "cell_type": "code",
   "execution_count": 253,
   "metadata": {},
   "outputs": [
    {
     "name": "stdout",
     "output_type": "stream",
     "text": [
      "[{'Price': '€235000', 'immo_code': ['10546224'], 'Address': 'Grand Route 8', 'Locality': 'Null', 'Bedrooms': '2', 'Energy class': 'G', 'Primary energy consumption': '941', 'Kitchen type': 'Null', 'Furnished': 'No', 'Terrace': 'Null', 'Terrace surface': 'Null', 'Surface of the plot': 'Null', 'Living room surface': 'Null', 'Number of frontages': '4'}, {'Price': '€390000', 'immo_code': ['10489722'], 'Address': 'Rue de Plainevaux 149/1', 'Locality': 'Null', 'Bedrooms': '4', 'Energy class': 'C', 'Primary energy consumption': '232', 'Kitchen type': 'Installed', 'Furnished': 'No', 'Terrace': 'Null', 'Terrace surface': '55', 'Surface of the plot': '1500', 'Living room surface': '44', 'Number of frontages': '4'}, {'Price': '€299500', 'immo_code': ['10565907'], 'Address': 'Avenue Laboulle, 32', 'Locality': 'Null', 'Bedrooms': '2', 'Energy class': 'Not specified', 'Primary energy consumption': 'Not specified', 'Kitchen type': 'Null', 'Furnished': 'Null', 'Terrace': 'Null', 'Terrace surface': '12', 'Surface of the plot': 'Null', 'Living room surface': '35', 'Number of frontages': 'Null'}, {'Price': '€320000', 'immo_code': ['10496404'], 'Address': \"Rue Julien d'Andrimont 11/4\", 'Locality': 'Null', 'Bedrooms': '3', 'Energy class': 'Not specified', 'Primary energy consumption': 'Not specified', 'Kitchen type': 'Null', 'Furnished': 'No', 'Terrace': 'Yes', 'Terrace surface': 'Null', 'Surface of the plot': '4000', 'Living room surface': 'Null', 'Number of frontages': '3'}, {'Price': '€', 'immo_code': ['10477050'], 'Address': 'Rue de Ciney 168', 'Locality': 'Null', 'Bedrooms': '4', 'Energy class': 'D', 'Primary energy consumption': '299', 'Kitchen type': 'Installed', 'Furnished': 'No', 'Terrace': 'Null', 'Terrace surface': '18', 'Surface of the plot': '199', 'Living room surface': '23', 'Number of frontages': '3'}, {'Price': '€330000', 'immo_code': ['10438654'], 'Address': 'Avenue Louis Libert 1', 'Locality': 'Null', 'Bedrooms': '3', 'Energy class': 'Not specified', 'Primary energy consumption': 'Not specified', 'Kitchen type': 'Not installed', 'Furnished': 'No', 'Terrace': 'Null', 'Terrace surface': '27', 'Surface of the plot': '1074', 'Living room surface': '26', 'Number of frontages': '3'}, {'Price': '€230000', 'immo_code': ['10422808'], 'Address': 'Avenue Louis Libert 1', 'Locality': 'Null', 'Bedrooms': '2', 'Energy class': 'E', 'Primary energy consumption': '415', 'Kitchen type': 'Semi equipped', 'Furnished': 'No', 'Terrace': 'Yes', 'Terrace surface': 'Null', 'Surface of the plot': '230', 'Living room surface': '19', 'Number of frontages': '2'}, {'Price': '€455000', 'immo_code': ['10337712'], 'Address': 'Avenue de la Porallée 18/2', 'Locality': 'Null', 'Bedrooms': '4', 'Energy class': 'F', 'Primary energy consumption': '510', 'Kitchen type': 'Installed', 'Furnished': 'No', 'Terrace': 'Yes', 'Terrace surface': 'Null', 'Surface of the plot': '5630', 'Living room surface': '40', 'Number of frontages': '4'}, {'Price': '€220000', 'immo_code': ['10442122'], 'Address': 'Avenue Louis Libert 1', 'Locality': 'Null', 'Bedrooms': '4', 'Energy class': 'G', 'Primary energy consumption': '705', 'Kitchen type': 'Not installed', 'Furnished': 'No', 'Terrace': 'Null', 'Terrace surface': 'Null', 'Surface of the plot': '612', 'Living room surface': '50', 'Number of frontages': '3'}, {'Price': '€99000', 'immo_code': ['10503345'], 'Address': 'Avenue Louis Libert 1', 'Locality': 'Null', 'Bedrooms': '3', 'Energy class': 'G', 'Primary energy consumption': '598', 'Kitchen type': 'Not installed', 'Furnished': 'No', 'Terrace': 'Yes', 'Terrace surface': 'Null', 'Surface of the plot': '230', 'Living room surface': '35', 'Number of frontages': '4'}, {'Price': '€110000', 'immo_code': ['10498629'], 'Address': 'Avenue du chêne, 177', 'Locality': 'Null', 'Bedrooms': '2', 'Energy class': 'G', 'Primary energy consumption': '597', 'Kitchen type': 'Not installed', 'Furnished': 'No', 'Terrace': 'Null', 'Terrace surface': 'Null', 'Surface of the plot': '229', 'Living room surface': '19', 'Number of frontages': '2'}, {'Price': '€249000', 'immo_code': ['10262629'], 'Address': 'Place Leblanc 28', 'Locality': 'Null', 'Bedrooms': '3', 'Energy class': 'E', 'Primary energy consumption': '345', 'Kitchen type': 'Null', 'Furnished': 'Null', 'Terrace': 'Null', 'Terrace surface': '30', 'Surface of the plot': '1140', 'Living room surface': 'Null', 'Number of frontages': '3'}, {'Price': '€224500', 'immo_code': ['10565906'], 'Address': 'Avenue Laboulle, 32', 'Locality': 'Null', 'Bedrooms': '1', 'Energy class': 'Not specified', 'Primary energy consumption': 'Not specified', 'Kitchen type': 'Null', 'Furnished': 'Null', 'Terrace': 'Null', 'Terrace surface': '9', 'Surface of the plot': 'Null', 'Living room surface': '27', 'Number of frontages': 'Null'}, {'Price': '€179000', 'immo_code': ['10444701'], 'Address': 'Avenue Louis Libert 1', 'Locality': 'Null', 'Bedrooms': '4', 'Energy class': 'C', 'Primary energy consumption': '217', 'Kitchen type': 'Semi equipped', 'Furnished': 'No', 'Terrace': 'Null', 'Terrace surface': 'Null', 'Surface of the plot': 'Null', 'Living room surface': '42', 'Number of frontages': '2'}, {'Price': '€225000', 'immo_code': ['10576010'], 'Address': 'Rue de Herve 70', 'Locality': 'Null', 'Bedrooms': '4', 'Energy class': 'D', 'Primary energy consumption': '331', 'Kitchen type': 'Installed', 'Furnished': 'No', 'Terrace': 'Yes', 'Terrace surface': 'Null', 'Surface of the plot': '942', 'Living room surface': '17', 'Number of frontages': '4'}, {'Price': '€199000', 'immo_code': ['10153448'], 'Address': 'Place Leblanc 28', 'Locality': 'Null', 'Bedrooms': '3', 'Energy class': 'D', 'Primary energy consumption': '295', 'Kitchen type': 'Installed', 'Furnished': 'Null', 'Terrace': 'Null', 'Terrace surface': 'Null', 'Surface of the plot': 'Null', 'Living room surface': '36', 'Number of frontages': '3'}, {'Price': '€', 'immo_code': ['10393318'], 'Address': 'Place Communale 3', 'Locality': 'Null', 'Bedrooms': '5', 'Energy class': 'E', 'Primary energy consumption': '424', 'Kitchen type': 'Hyper equipped', 'Furnished': 'Null', 'Terrace': 'Yes', 'Terrace surface': 'Null', 'Surface of the plot': '2000', 'Living room surface': '32', 'Number of frontages': '4'}, {'Price': '€', 'immo_code': ['10470638'], 'Address': 'Avenue Louis Libert 1', 'Locality': 'Null', 'Bedrooms': '1', 'Energy class': 'D', 'Primary energy consumption': '340', 'Kitchen type': 'Semi equipped', 'Furnished': 'No', 'Terrace': 'Null', 'Terrace surface': 'Null', 'Surface of the plot': '33', 'Living room surface': '18', 'Number of frontages': '2'}, {'Price': '€374500', 'immo_code': ['10565905'], 'Address': 'Avenue Laboulle, 32', 'Locality': 'Null', 'Bedrooms': '3', 'Energy class': 'Not specified', 'Primary energy consumption': 'Not specified', 'Kitchen type': 'Null', 'Furnished': 'Null', 'Terrace': 'Null', 'Terrace surface': '19', 'Surface of the plot': 'Null', 'Living room surface': '41', 'Number of frontages': 'Null'}, {'Price': '€475000', 'immo_code': ['10395673'], 'Address': 'Avenue Franklin Roosevelt 22A', 'Locality': 'Null', 'Bedrooms': '4', 'Energy class': 'A', 'Primary energy consumption': '77', 'Kitchen type': 'Null', 'Furnished': 'No', 'Terrace': 'Null', 'Terrace surface': '55', 'Surface of the plot': '2254', 'Living room surface': '105', 'Number of frontages': '3'}, {'Price': '€125000', 'immo_code': ['10433041'], 'Address': 'Avenue Louis Libert 1', 'Locality': 'Null', 'Bedrooms': '2', 'Energy class': 'G', 'Primary energy consumption': '536', 'Kitchen type': 'Not installed', 'Furnished': 'Null', 'Terrace': 'Null', 'Terrace surface': 'Null', 'Surface of the plot': '336', 'Living room surface': '29', 'Number of frontages': '2'}, {'Price': '€', 'immo_code': ['10318862'], 'Address': \"Voie de l'Ardenne 179\", 'Locality': 'Null', 'Bedrooms': '3', 'Energy class': 'C', 'Primary energy consumption': '249', 'Kitchen type': 'Installed', 'Furnished': 'No', 'Terrace': 'Null', 'Terrace surface': '20', 'Surface of the plot': '200', 'Living room surface': 'Null', 'Number of frontages': '2'}, {'Price': '€339000', 'immo_code': ['10565857'], 'Address': 'Avenue Louis Libert 1', 'Locality': 'Null', 'Bedrooms': '3', 'Energy class': 'C', 'Primary energy consumption': '221', 'Kitchen type': 'Hyper equipped', 'Furnished': 'No', 'Terrace': 'Yes', 'Terrace surface': 'Null', 'Surface of the plot': '800', 'Living room surface': '74', 'Number of frontages': '3'}, {'Price': '€179000', 'immo_code': ['10439166'], 'Address': 'Avenue de la Porallée 18/2', 'Locality': 'Null', 'Bedrooms': '4', 'Energy class': 'F', 'Primary energy consumption': '446', 'Kitchen type': 'Installed', 'Furnished': 'No', 'Terrace': 'Null', 'Terrace surface': 'Null', 'Surface of the plot': '241', 'Living room surface': '35', 'Number of frontages': '3'}, {'Price': '€155000', 'immo_code': ['10563359'], 'Address': 'Avenue Louis Libert 1', 'Locality': 'Null', 'Bedrooms': '2', 'Energy class': 'G', 'Primary energy consumption': '642', 'Kitchen type': 'Not installed', 'Furnished': 'Yes', 'Terrace': 'Null', 'Terrace surface': 'Null', 'Surface of the plot': '247', 'Living room surface': '15', 'Number of frontages': '3'}, {'Price': '€129000', 'immo_code': ['10555783'], 'Address': 'Rue de Hotton, 22', 'Locality': 'Null', 'Bedrooms': '1', 'Energy class': 'E', 'Primary energy consumption': '418', 'Kitchen type': 'Semi equipped', 'Furnished': 'Null', 'Terrace': 'Null', 'Terrace surface': 'Null', 'Surface of the plot': '42', 'Living room surface': '19', 'Number of frontages': '3'}, {'Price': '€169000', 'immo_code': ['10429671'], 'Address': 'Chaussée Roosevelt 11', 'Locality': 'Null', 'Bedrooms': '2', 'Energy class': 'F', 'Primary energy consumption': '469', 'Kitchen type': 'Null', 'Furnished': 'Null', 'Terrace': 'Null', 'Terrace surface': '60', 'Surface of the plot': 'Null', 'Living room surface': 'Null', 'Number of frontages': 'Null'}, {'Price': '€210000', 'immo_code': ['10436121'], 'Address': 'Rue du Vieux-Mayeur 51', 'Locality': 'Null', 'Bedrooms': '2', 'Energy class': 'C', 'Primary energy consumption': '187', 'Kitchen type': 'Installed', 'Furnished': 'No', 'Terrace': 'Null', 'Terrace surface': '15', 'Surface of the plot': '180', 'Living room surface': '20', 'Number of frontages': '2'}, {'Price': '€199500', 'immo_code': ['10565904'], 'Address': 'Avenue Laboulle, 32', 'Locality': 'Null', 'Bedrooms': '1', 'Energy class': 'Not specified', 'Primary energy consumption': 'Not specified', 'Kitchen type': 'Null', 'Furnished': 'Null', 'Terrace': 'Null', 'Terrace surface': '10', 'Surface of the plot': 'Null', 'Living room surface': '26', 'Number of frontages': 'Null'}, {'Price': '€', 'immo_code': ['10486111'], 'Address': 'Place Communale 3', 'Locality': 'Null', 'Bedrooms': '4', 'Energy class': 'A', 'Primary energy consumption': '77', 'Kitchen type': 'USA hyper equipped', 'Furnished': 'Null', 'Terrace': 'Yes', 'Terrace surface': 'Null', 'Surface of the plot': '800', 'Living room surface': '31', 'Number of frontages': '4'}]\n"
     ]
    }
   ],
   "source": [
    "import requests\n",
    "from bs4 import BeautifulSoup\n",
    "import re\n",
    "\n",
    "root_url = 'https://www.immoweb.be/en'\n",
    "list_of_urls = ['https://www.immoweb.be/en/classified/chalet/for-sale/aywaille/4920/10546224', 'https://www.immoweb.be/en/classified/house/for-sale/aywaille/4920/10489722', 'https://www.immoweb.be/en/classified/ground-floor/for-sale/aywaille/4920/10565907', 'https://www.immoweb.be/en/classified/house/for-sale/harze/4920/10496404', 'https://www.immoweb.be/en/classified/house/for-sale/aywaille%20-remouchamps/4920/10477050', 'https://www.immoweb.be/en/classified/villa/for-sale/aywaille/4920/10438654', 'https://www.immoweb.be/en/classified/house/for-sale/aywaille/4920/10422808', 'https://www.immoweb.be/en/classified/house/for-sale/aywaille/4920/10337712', 'https://www.immoweb.be/en/classified/mixed-use-building/for-sale/aywaille/4920/10442122', 'https://www.immoweb.be/en/classified/house/for-sale/aywaille/4920/10503345', 'https://www.immoweb.be/en/classified/house/for-sale/sougn%C3%A9-remouchamps/4920/10498629', 'https://www.immoweb.be/en/classified/house/for-sale/aywaille/4920/10262629', 'https://www.immoweb.be/en/classified/penthouse/for-sale/aywaille/4920/10565906', 'https://www.immoweb.be/en/classified/apartment/for-sale/aywaille/4920/10444701', 'https://www.immoweb.be/en/classified/chalet/for-sale/aywaille/4920/10576010', 'https://www.immoweb.be/en/classified/apartment/for-sale/aywaille/4920/10153448', 'https://www.immoweb.be/en/classified/villa/for-sale/aywaille/4920/10393318', 'https://www.immoweb.be/en/classified/house/for-sale/aywaille/4920/10470638', 'https://www.immoweb.be/en/classified/penthouse/for-sale/aywaille/4920/10565905', 'https://www.immoweb.be/en/classified/house/for-sale/aywaille/4920/10395673', 'https://www.immoweb.be/en/classified/house/for-sale/aywaille/4920/10433041', 'https://www.immoweb.be/en/classified/apartment-block/for-sale/aywaille/4920/10318862', 'https://www.immoweb.be/en/classified/house/for-sale/aywaille/4920/10565857', 'https://www.immoweb.be/en/classified/house/for-sale/aywaille/4920/10439166', 'https://www.immoweb.be/en/classified/house/for-sale/aywaille/4920/10563359', 'https://www.immoweb.be/en/classified/house/for-sale/aywaille/4920/10555783', 'https://www.immoweb.be/en/classified/house/for-sale/aywaille/4920/10429671', 'https://www.immoweb.be/en/classified/house/for-sale/harz%C3%A9/4920/10436121', 'https://www.immoweb.be/en/classified/apartment/for-sale/aywaille/4920/10565904', 'https://www.immoweb.be/en/classified/villa/for-sale/aywaille%20%28nonceveux%29/4920/10486111']\n",
    "\n",
    "things  = ['Price', 'Address', 'Locality', 'Bedrooms',  'Energy class', 'Primary energy consumption',  'Kitchen type',  'Furnished' ,'Terrace', 'Terrace surface', 'Surface of the plot', 'Living room surface', 'Number of frontages']\n",
    "list_of_needed = []\n",
    "for url in list_of_urls:\n",
    "    \n",
    "    html_text = requests.get(url)\n",
    "    soup = BeautifulSoup(html_text.content, 'html.parser')\n",
    "    text = soup.get_text()\n",
    "    splited_text=text.split()\n",
    "   \n",
    "    all_data = soup.find_all('td' , class_ = 'classified-table__data')\n",
    "    all_header = soup.find_all('th', class_='classified-table__header')\n",
    "\n",
    "    immoweb_code_text = soup.find(class_='classified__header--immoweb-code').text.strip()\n",
    "    immo_code = re.findall('([0-9]+)',immoweb_code_text)\n",
    "    \n",
    "    list_of_header = []\n",
    "    list_of_data = []\n",
    "\n",
    "    for header in all_header:\n",
    "        list_of_header.append(header.contents[0].strip())\n",
    "\n",
    "    for data in all_data:\n",
    "        list_of_data.append(data.contents[0].strip())\n",
    "    result_dict = { x:y for x,y in zip(list_of_header, list_of_data)}\n",
    "\n",
    "    for word in splited_text:\n",
    "        if word.startswith('€'):\n",
    "            result_dict['Price'] = word.replace(',', '')\n",
    "       #span = data.find(\"span\", attrs={\"aria-hidden\": \"true\"})     \n",
    "    \n",
    "    needed_things={}\n",
    "    for element in things:\n",
    "        if element in result_dict.keys():\n",
    "            needed_things[element]=result_dict[element]\n",
    "        else:\n",
    "            needed_things[element]='Null'\n",
    "    \n",
    "        needed_things['immo_code']=immo_code\n",
    "    list_of_needed.append(needed_things)\n",
    "\n",
    "print(list_of_needed)    "
   ]
  },
  {
   "cell_type": "code",
   "execution_count": 254,
   "metadata": {},
   "outputs": [],
   "source": [
    "import csv\n",
    "with open('test.csv', 'w' ) as f:\n",
    "    #writer=csv.writer()\n",
    "    f.write(','.join(list_of_needed[0].keys()))\n",
    "    f.write('\\n')\n",
    "    for row in list_of_needed:\n",
    "        f.write(','.join(str(x).encode('utf-8').decode('utf-8') for x in row.values()))\n",
    "        f.write('\\n')\n"
   ]
  }
 ],
 "metadata": {
  "kernelspec": {
   "display_name": "immoeliza",
   "language": "python",
   "name": "python3"
  },
  "language_info": {
   "codemirror_mode": {
    "name": "ipython",
    "version": 3
   },
   "file_extension": ".py",
   "mimetype": "text/x-python",
   "name": "python",
   "nbconvert_exporter": "python",
   "pygments_lexer": "ipython3",
   "version": "3.11.4"
  },
  "orig_nbformat": 4
 },
 "nbformat": 4,
 "nbformat_minor": 2
}
