{
 "cells": [
  {
   "cell_type": "code",
   "execution_count": 1,
   "metadata": {},
   "outputs": [
    {
     "data": {
      "text/plain": [
       "'from bs4 import BeautifulSoup\\nfrom selenium import webdriver\\nfrom selenium.webdriver.common.keys import Keys\\nfrom selenium.webdriver.common.by import By\\nimport time\\n\\nfor_sale = \\'/search/house/for-sale\\'\\nfor_rent = \\'/search/house/for-rent\\' \\nlist_of_districts = [\\'/brussels\\' ] #, \\'/wallonia\\', \\'/gent\\', \\'/namur\\', \\'/hainaut\\', \\'/liege , \\'/antwerp\\'\\'\\ndistricts = \\'/district\\'\\nend_url= \\'?countries=BE&page=1&orderBy=relevance\\'\\nroot_url = \\'https://www.immoweb.be/en\\'\\n\\ndriver = webdriver.Chrome()\\n\\n#shadow root - cookie\\ndriver.get(root_url)\\ntime.sleep(3)\\nelement = driver.execute_script(\"\"\"return document.querySelector(\\'#usercentrics-root\\').shadowRoot.querySelector(\"button[data-testid=\\'uc-accept-all-button\\']\")\"\"\")\\nelement.click()\\n\\ncurrent_link = root_url+for_sale+end_url\\nprint(current_link)\\n\\ndriver.get(current_link)\\ntime.sleep(3)\\n#print(current_link)\\n\\nsearch_results = driver.find_elements(By.CLASS_NAME, \"search-results__item\")\\n\\n\\nfor result in search_results:\\n\\n    try:\\n        # Click on each search result\\n        result.click()\\n        time.sleep(5)    \\n\\n        # Find and print the table text      \\n        search = driver.find_elements(By.CLASS_NAME, \\'classified-table__row\\')\\n        for x in search:\\n            print(x.text)\\n    \\n    except Exception as e:\\n        print(f\"Error occurred while processing search result: {e}\")\\n\\n    driver.back()\\n    time.sleep(3)\\ndriver.close() '"
      ]
     },
     "execution_count": 1,
     "metadata": {},
     "output_type": "execute_result"
    }
   ],
   "source": [
    "'''from bs4 import BeautifulSoup\n",
    "from selenium import webdriver\n",
    "from selenium.webdriver.common.keys import Keys\n",
    "from selenium.webdriver.common.by import By\n",
    "import time\n",
    "\n",
    "for_sale = '/search/house/for-sale'\n",
    "for_rent = '/search/house/for-rent' \n",
    "list_of_districts = ['/brussels' ] #, '/wallonia', '/gent', '/namur', '/hainaut', '/liege , '/antwerp''\n",
    "districts = '/district'\n",
    "end_url= '?countries=BE&page=1&orderBy=relevance'\n",
    "root_url = 'https://www.immoweb.be/en'\n",
    "\n",
    "driver = webdriver.Chrome()\n",
    "\n",
    "#shadow root - cookie\n",
    "driver.get(root_url)\n",
    "time.sleep(3)\n",
    "element = driver.execute_script(\"\"\"return document.querySelector('#usercentrics-root').shadowRoot.querySelector(\"button[data-testid='uc-accept-all-button']\")\"\"\")\n",
    "element.click()\n",
    "\n",
    "current_link = root_url+for_sale+end_url\n",
    "print(current_link)\n",
    "\n",
    "driver.get(current_link)\n",
    "time.sleep(3)\n",
    "#print(current_link)\n",
    "\n",
    "search_results = driver.find_elements(By.CLASS_NAME, \"search-results__item\")\n",
    "\n",
    "\n",
    "for result in search_results:\n",
    "\n",
    "    try:\n",
    "        # Click on each search result\n",
    "        result.click()\n",
    "        time.sleep(5)    \n",
    "\n",
    "        # Find and print the table text      \n",
    "        search = driver.find_elements(By.CLASS_NAME, 'classified-table__row')\n",
    "        for x in search:\n",
    "            print(x.text)\n",
    "    \n",
    "    except Exception as e:\n",
    "        print(f\"Error occurred while processing search result: {e}\")\n",
    "\n",
    "    driver.back()\n",
    "    time.sleep(3)\n",
    "driver.close() '''"
   ]
  },
  {
   "cell_type": "code",
   "execution_count": 127,
   "metadata": {},
   "outputs": [
    {
     "name": "stdout",
     "output_type": "stream",
     "text": [
      "[{'Bedrooms': '1', 'Living room surface': '18', 'Kitchen type': 'Not installed', 'Furnished': 'No', 'Terrace': 'Yes', 'Surface of the plot': '242'}, {'Bedrooms': '4', 'Kitchen type': 'Hyper equipped', 'Terrace surface': '40', 'Surface of the plot': '1091'}, {'Bedrooms': '3', 'Living room surface': '29', 'Kitchen type': 'Not installed', 'Furnished': 'No', 'Terrace': 'Yes', 'Surface of the plot': '2281'}, {'Bedrooms': '2', 'Living room surface': '41', 'Kitchen type': 'Installed', 'Furnished': 'No', 'Terrace': 'Yes', 'Surface of the plot': '134'}, {'Bedrooms': '2', 'Living room surface': '30', 'Kitchen type': 'Installed', 'Terrace surface': '25', 'Surface of the plot': '110'}]\n"
     ]
    }
   ],
   "source": [
    "import requests\n",
    "from bs4 import BeautifulSoup\n",
    "root_url = 'https://www.immoweb.be/en'\n",
    "#url = 'https://www.immoweb.be/en/classified/house/for-sale/lede/9340/10660142'\n",
    "list_of_urls = ['https://www.immoweb.be/en/classified/house/for-sale/aywaille%20sougn%C3%A9-remouchamps/4920/10663667', 'https://www.immoweb.be/en/classified/villa/for-sale/aywaille/4920/10661605', 'https://www.immoweb.be/en/classified/villa/for-sale/aywaille/4920/10660061', 'https://www.immoweb.be/en/classified/house/for-sale/aywaille/4920/10660060', 'https://www.immoweb.be/en/classified/house/for-sale/sougn%C3%89-remouchamps/4920/10658556']#'https://www.immoweb.be/en/classified/house/for-sale/aywaille/4920/10658163', 'https://www.immoweb.be/en/classified/villa/for-sale/aywaille/4920/10651067', 'https://www.immoweb.be/en/classified/house/for-sale/aywaille/4920/10648619', 'https://www.immoweb.be/en/classified/apartment/for-sale/aywaille/4920/10643308', 'https://www.immoweb.be/en/classified/villa/for-sale/aywaille/4920/10641572', 'https://www.immoweb.be/en/classified/house/for-sale/aywaille/4920/10639606', 'https://www.immoweb.be/en/classified/house/for-sale/aywaille%20harz%C3%A9/4920/10639182', 'https://www.immoweb.be/en/classified/mixed-use-building/for-sale/aywaille/4920/10622435', 'https://www.immoweb.be/en/classified/bungalow/for-sale/aywaille/4920/10619190', 'https://www.immoweb.be/en/classified/house/for-sale/aywaille/4920/10617582', 'https://www.immoweb.be/en/classified/mixed-use-building/for-sale/aywaille/4920/10616382', 'https://www.immoweb.be/en/classified/mixed-use-building/for-sale/aywaille/4920/10613517', 'https://www.immoweb.be/en/classified/villa/for-sale/aywaille/4920/10609761', 'https://www.immoweb.be/en/classified/house/for-sale/aywaille/4920/10609759', 'https://www.immoweb.be/en/classified/house/for-sale/aywaille/4920/10605215', 'https://www.immoweb.be/en/classified/house/for-sale/aywaille/4920/10600649', 'https://www.immoweb.be/en/classified/apartment/for-sale/aywaille/4920/10599273', 'https://www.immoweb.be/en/classified/apartment/for-sale/aywaille/4920/10599271', 'https://www.immoweb.be/en/classified/house/for-sale/aywaille/4920/10591077', 'https://www.immoweb.be/en/classified/apartment-block/for-sale/aywaille/4920/10581207', 'https://www.immoweb.be/en/classified/house/for-sale/aywaille/4920/10581205', 'https://www.immoweb.be/en/classified/house/for-sale/aywaille/4920/10580798', 'https://www.immoweb.be/en/classified/house/for-sale/harz%C3%89/4920/10578860', 'https://www.immoweb.be/en/classified/house/for-sale/aywaille/4920/10578256', 'https://www.immoweb.be/en/classified/chalet/for-sale/aywaille/4920/10576010']\n",
    "\n",
    "things = ['Locality','Bedrooms', 'Living room surface', 'Kitchen type', 'Furnished', 'Terrace','Terrace surface', 'Surface of the plot' ]\n",
    "list_of_needed = []\n",
    "\n",
    "for url in list_of_urls:\n",
    "    \n",
    "    html_text = requests.get(url)\n",
    "    soup = BeautifulSoup(html_text.content, 'html.parser')\n",
    "    pretty = soup.prettify()\n",
    "\n",
    "    all_data = soup.find_all('td' , class_ = 'classified-table__data')\n",
    "    all_header = soup.find_all('th', class_='classified-table__header')\n",
    "\n",
    "    list_of_header = []\n",
    "    list_of_data = []\n",
    "\n",
    "    for header in all_header:\n",
    "        list_of_header.append(header.contents[0].strip())\n",
    "\n",
    "    for data in all_data:\n",
    "        list_of_data.append(data.contents[0].strip())\n",
    "       #span = data.find(\"span\", attrs={\"aria-hidden\": \"true\"})     \n",
    "    result_dict = { x:y for x,y in zip(list_of_header, list_of_data)}\n",
    "\n",
    "    needed_things={}\n",
    "    for x in things:\n",
    "        if x in result_dict.keys():\n",
    "            needed_things[x]=result_dict[x]\n",
    "    \n",
    "    list_of_needed.append(needed_things)\n",
    "    \n",
    "print(list_of_needed)    "
   ]
  },
  {
   "cell_type": "code",
   "execution_count": 128,
   "metadata": {},
   "outputs": [],
   "source": [
    "import csv\n",
    "with open('test.csv', 'w' ) as f:\n",
    "    #writer=csv.writer()\n",
    "    f.write(','.join(list_of_needed[0].keys()))\n",
    "    f.write('\\n')\n",
    "    for row in list_of_needed:\n",
    "        f.write(','.join(str(x) for x in row.values()))\n",
    "        f.write('\\n')\n"
   ]
  }
 ],
 "metadata": {
  "kernelspec": {
   "display_name": "immoeliza",
   "language": "python",
   "name": "python3"
  },
  "language_info": {
   "codemirror_mode": {
    "name": "ipython",
    "version": 3
   },
   "file_extension": ".py",
   "mimetype": "text/x-python",
   "name": "python",
   "nbconvert_exporter": "python",
   "pygments_lexer": "ipython3",
   "version": "3.11.4"
  },
  "orig_nbformat": 4
 },
 "nbformat": 4,
 "nbformat_minor": 2
}
