{
 "cells": [
  {
   "cell_type": "code",
   "execution_count": 120,
   "metadata": {},
   "outputs": [
    {
     "data": {
      "text/plain": [
       "'from bs4 import BeautifulSoup\\nfrom selenium import webdriver\\nfrom selenium.webdriver.common.keys import Keys\\nfrom selenium.webdriver.common.by import By\\nimport time\\n\\nfor_sale = \\'/search/house/for-sale\\'\\nfor_rent = \\'/search/house/for-rent\\' \\nlist_of_districts = [\\'/brussels\\' ] #, \\'/wallonia\\', \\'/gent\\', \\'/namur\\', \\'/hainaut\\', \\'/liege , \\'/antwerp\\'\\'\\ndistricts = \\'/district\\'\\nend_url= \\'?countries=BE&page=1&orderBy=relevance\\'\\nroot_url = \\'https://www.immoweb.be/en\\'\\n\\ndriver = webdriver.Chrome()\\n\\n#shadow root - cookie\\ndriver.get(root_url)\\ntime.sleep(3)\\nelement = driver.execute_script(\"\"\"return document.querySelector(\\'#usercentrics-root\\').shadowRoot.querySelector(\"button[data-testid=\\'uc-accept-all-button\\']\")\"\"\")\\nelement.click()\\n\\ncurrent_link = root_url+for_sale+end_url\\nprint(current_link)\\n\\ndriver.get(current_link)\\ntime.sleep(3)\\n#print(current_link)\\n\\nsearch_results = driver.find_elements(By.CLASS_NAME, \"search-results__item\")\\n\\n\\nfor result in search_results:\\n\\n    try:\\n        # Click on each search result\\n        result.click()\\n        time.sleep(5)    \\n\\n        # Find and print the table text      \\n        search = driver.find_elements(By.CLASS_NAME, \\'classified-table__row\\')\\n        for x in search:\\n            print(x.text)\\n    \\n    except Exception as e:\\n        print(f\"Error occurred while processing search result: {e}\")\\n\\n    driver.back()\\n    time.sleep(3)\\ndriver.close() '"
      ]
     },
     "execution_count": 120,
     "metadata": {},
     "output_type": "execute_result"
    }
   ],
   "source": [
    "'''from bs4 import BeautifulSoup\n",
    "from selenium import webdriver\n",
    "from selenium.webdriver.common.keys import Keys\n",
    "from selenium.webdriver.common.by import By\n",
    "import time\n",
    "\n",
    "for_sale = '/search/house/for-sale'\n",
    "for_rent = '/search/house/for-rent' \n",
    "list_of_districts = ['/brussels' ] #, '/wallonia', '/gent', '/namur', '/hainaut', '/liege , '/antwerp''\n",
    "districts = '/district'\n",
    "end_url= '?countries=BE&page=1&orderBy=relevance'\n",
    "root_url = 'https://www.immoweb.be/en'\n",
    "\n",
    "driver = webdriver.Chrome()\n",
    "\n",
    "#shadow root - cookie\n",
    "driver.get(root_url)\n",
    "time.sleep(3)\n",
    "element = driver.execute_script(\"\"\"return document.querySelector('#usercentrics-root').shadowRoot.querySelector(\"button[data-testid='uc-accept-all-button']\")\"\"\")\n",
    "element.click()\n",
    "\n",
    "current_link = root_url+for_sale+end_url\n",
    "print(current_link)\n",
    "\n",
    "driver.get(current_link)\n",
    "time.sleep(3)\n",
    "#print(current_link)\n",
    "\n",
    "search_results = driver.find_elements(By.CLASS_NAME, \"search-results__item\")\n",
    "\n",
    "\n",
    "for result in search_results:\n",
    "\n",
    "    try:\n",
    "        # Click on each search result\n",
    "        result.click()\n",
    "        time.sleep(5)    \n",
    "\n",
    "        # Find and print the table text      \n",
    "        search = driver.find_elements(By.CLASS_NAME, 'classified-table__row')\n",
    "        for x in search:\n",
    "            print(x.text)\n",
    "    \n",
    "    except Exception as e:\n",
    "        print(f\"Error occurred while processing search result: {e}\")\n",
    "\n",
    "    driver.back()\n",
    "    time.sleep(3)\n",
    "driver.close() '''"
   ]
  },
  {
   "cell_type": "code",
   "execution_count": 183,
   "metadata": {},
   "outputs": [
    {
     "name": "stdout",
     "output_type": "stream",
     "text": [
      "{'Available as of': 'After signing the deed', 'Construction year': '1918', 'Building condition': 'As new', 'Street frontage width': '5 m', 'Number of frontages': '2', 'Outdoor parking spaces': '1', 'Surroundings type': 'Isolated', 'Living area': '95', 'Living room surface': '21', 'Kitchen type': 'USA installed', 'Kitchen surface': '15', 'Bedrooms': '3', 'Bedroom 1 surface': '10', 'Bedroom 2 surface': '10', 'Bedroom 3 surface': '11', 'Bathrooms': '1', 'Shower rooms': '1', 'Toilets': '2', 'Office surface': '10', 'Office': 'Yes', 'Basement surface': '21', 'Attic surface': '31', 'Surface of the plot': '150', 'Width of the lot on the street': '', 'Connection to sewer network': 'Connected', 'Terrace surface': '11', 'TV cable': 'Yes', 'Primary energy consumption': '500', 'Energy class': 'F', 'Reference number of the EPC report': '20180419013499', 'CO₂ emission': '15 kg CO₂/m²', 'Yearly theoretical total energy consumption': '74324 kWh/year', 'Heating type': 'Electric', 'Double glazing': 'Yes', 'Total ground floor buildable': '150', 'Price': '', 'Cadastral income': '', 'Tenement building': 'No', 'Address': 'Haie des Chênes 3', 'Website': '', 'External reference': '5321385'}\n"
     ]
    }
   ],
   "source": [
    "from selenium import webdriver\n",
    "from selenium.webdriver.common.keys import Keys\n",
    "from selenium.webdriver.common.by import By\n",
    "import requests\n",
    "from bs4 import BeautifulSoup\n",
    "root_url = 'https://www.immoweb.be/en'\n",
    "#url = 'https://www.immoweb.be/en/classified/house/for-sale/lede/9340/10660142'\n",
    "list_of_urls = ['https://www.immoweb.be/en/classified/house/for-sale/aywaille/4920/10600649', ]\n",
    "\n",
    "for url in list_of_urls:\n",
    "    html_text = requests.get(url)\n",
    "    soup = BeautifulSoup(html_text.content, 'html.parser')\n",
    "    pretty = soup.prettify()\n",
    "\n",
    "    all_data = soup.find_all('td' , class_ = 'classified-table__data')\n",
    "    all_header = soup.find_all('th', class_='classified-table__header')\n",
    "\n",
    "    list_of_header = []\n",
    "    list_of_data = []\n",
    "    for header in all_header:\n",
    "        list_of_header.append(header.contents[0].strip())\n",
    "    for data in all_data:\n",
    "        #if data.find('aria-hidden' = 'true'): \n",
    "        list_of_data.append(data.contents[0].strip())\n",
    "        \n",
    "    result_dict = { x:y for x,y in zip(list_of_header, list_of_data)}\n",
    "print(result_dict)\n",
    "\n"
   ]
  }
 ],
 "metadata": {
  "kernelspec": {
   "display_name": "immoeliza",
   "language": "python",
   "name": "python3"
  },
  "language_info": {
   "codemirror_mode": {
    "name": "ipython",
    "version": 3
   },
   "file_extension": ".py",
   "mimetype": "text/x-python",
   "name": "python",
   "nbconvert_exporter": "python",
   "pygments_lexer": "ipython3",
   "version": "3.11.4"
  },
  "orig_nbformat": 4
 },
 "nbformat": 4,
 "nbformat_minor": 2
}
