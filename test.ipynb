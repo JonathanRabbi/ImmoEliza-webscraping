{
 "cells": [
  {
   "cell_type": "code",
   "execution_count": 73,
   "metadata": {},
   "outputs": [
    {
     "data": {
      "text/plain": [
       "'from bs4 import BeautifulSoup\\nfrom selenium import webdriver\\nfrom selenium.webdriver.common.keys import Keys\\nfrom selenium.webdriver.common.by import By\\nimport time\\n\\nfor_sale = \\'/search/house/for-sale\\'\\nfor_rent = \\'/search/house/for-rent\\' \\n\\nlist_of_districts = [\\'/brussels\\' ] #, \\'/wallonia\\', \\'/gent\\', \\'/namur\\', \\'/hainaut\\', \\'/liege , \\'/antwerp\\'\\'\\ndistricts = \\'/district\\'\\nend_url= \\'?countries=BE&page=1&orderBy=relevance\\'\\nroot_url = \\'https://www.immoweb.be/en\\'\\n\\ndriver = webdriver.Chrome()\\n\\n#shadow root\\ndriver.get(root_url+\\'/shadow_dom.html\\')\\ntime.sleep(3)\\nelement = driver.execute_script(\"\"\"return document.querySelector(\\'#usercentrics-root\\').shadowRoot.querySelector(\"button[data-testid=\\'uc-accept-all-button\\']\")\"\"\")\\nelement.click()\\n\\ncurrent_link = root_url+for_sale+end_url\\nprint(current_link)\\n\\ndriver.get(current_link)\\ntime.sleep(3)\\n#print(current_link)\\n\\nsearch_results = driver.find_elements(By.CLASS_NAME, \"search-results__item\")\\ntime.sleep(3)\\nfor result in search_results:\\n    try:\\n        # Click on each search result\\n        result.click()\\n        time.sleep(5)    \\n        current = driver.current_url\\n        driver.get(current)\\n        # Find and print the table text      \\n        search = driver.find_elements(By.CLASS_NAME, \\'classified-table__row\\')\\n        for x in search:\\n            print(x.text)\\n        time.sleep(3)\\n    \\n    except Exception as e:\\n        print(f\"Error occurred while processing search result: {e}\")\\ndriver.close() '"
      ]
     },
     "execution_count": 73,
     "metadata": {},
     "output_type": "execute_result"
    }
   ],
   "source": [
    "'''from bs4 import BeautifulSoup\n",
    "from selenium import webdriver\n",
    "from selenium.webdriver.common.keys import Keys\n",
    "from selenium.webdriver.common.by import By\n",
    "import time\n",
    "\n",
    "for_sale = '/search/house/for-sale'\n",
    "for_rent = '/search/house/for-rent' \n",
    "\n",
    "list_of_districts = ['/brussels' ] #, '/wallonia', '/gent', '/namur', '/hainaut', '/liege , '/antwerp''\n",
    "districts = '/district'\n",
    "end_url= '?countries=BE&page=1&orderBy=relevance'\n",
    "root_url = 'https://www.immoweb.be/en'\n",
    "\n",
    "driver = webdriver.Chrome()\n",
    "\n",
    "#shadow root\n",
    "driver.get(root_url+'/shadow_dom.html')\n",
    "time.sleep(3)\n",
    "element = driver.execute_script(\"\"\"return document.querySelector('#usercentrics-root').shadowRoot.querySelector(\"button[data-testid='uc-accept-all-button']\")\"\"\")\n",
    "element.click()\n",
    "\n",
    "current_link = root_url+for_sale+end_url\n",
    "print(current_link)\n",
    "\n",
    "driver.get(current_link)\n",
    "time.sleep(3)\n",
    "#print(current_link)\n",
    "\n",
    "search_results = driver.find_elements(By.CLASS_NAME, \"search-results__item\")\n",
    "time.sleep(3)\n",
    "for result in search_results:\n",
    "    try:\n",
    "        # Click on each search result\n",
    "        result.click()\n",
    "        time.sleep(5)    \n",
    "        current = driver.current_url\n",
    "        driver.get(current)\n",
    "        # Find and print the table text      \n",
    "        search = driver.find_elements(By.CLASS_NAME, 'classified-table__row')\n",
    "        for x in search:\n",
    "            print(x.text)\n",
    "        time.sleep(3)\n",
    "    \n",
    "    except Exception as e:\n",
    "        print(f\"Error occurred while processing search result: {e}\")\n",
    "driver.close() '''"
   ]
  },
  {
   "cell_type": "code",
   "execution_count": 72,
   "metadata": {},
   "outputs": [
    {
     "name": "stdout",
     "output_type": "stream",
     "text": [
      "Available as of After signing the deed\n",
      "Neighbourhood or locality Oost- Vlaanderen\n",
      "Construction year 1950\n",
      "Building condition To be done up\n",
      "Street frontage width 6 m\n",
      "Number of frontages 3\n",
      "Surroundings type Urban\n",
      "Living area 170 m²\n",
      "square meters\n",
      "Living room surface 32 m²\n",
      "square meters\n",
      "Kitchen type Installed\n",
      "Kitchen surface 15 m²\n",
      "square meters\n",
      "Bedrooms 3\n",
      "Bedroom 1 surface 17 m²\n",
      "square meters\n",
      "Bedroom 2 surface 12 m²\n",
      "square meters\n",
      "Bedroom 3 surface 6 m²\n",
      "square meters\n",
      "Bathrooms 1\n",
      "Toilets 1\n",
      "Basement Yes\n",
      "Attic Yes\n",
      "Armored door No\n",
      "Surface of the plot 564 m²\n",
      "square meters\n",
      "Width of the lot on the street 8 m\n",
      "meters\n",
      "Connection to sewer network Connected\n",
      "Gas, water & electricity Yes\n",
      "Garden surface 450 m²\n",
      "square meters\n",
      "Terrace Yes\n",
      "Primary energy consumption 452 kWh/m²\n",
      "kilowatt hour per square meters\n",
      "Energy class E\n",
      "\n",
      "Reference number of the EPC report 20230626-0002928488-RES-1\n",
      "CO₂ emission Not specified\n",
      "Yearly theoretical total energy consumption Not specified\n",
      "Heating type Gas\n",
      "Subdivision permit No\n",
      "Possible priority purchase right No\n",
      "Proceedings for breach of planning regulations No\n",
      "Latest land use designation Living area (residential, urban or rural)\n",
      "Cadastral income € 487\n",
      "487 €\n",
      "Tenement building No\n",
      "Finance your purchase\n",
      "Need a loan? Get your mortgage rate in a few clicks!\n",
      "Simulate my loan\n",
      "Insure your purchase\n",
      "Your home insurance, simple, quick and complete\n",
      "Calculate my price\n",
      "Address Hoogstraat 20\n",
      "9340 - Lede\n",
      "Website http://www.immoderas.be\n",
      "External reference 5389284\n"
     ]
    },
    {
     "data": {
      "text/plain": [
       "\"req_url = session.get(url , cookies=cookie)\\nx = req_url.content\\nsoup = BeautifulSoup(x , 'html.parser')\\n#for tag in soup.find_all('tr', class_='classified-table__row' )\\nfor something in soup.find_all('tbody', class_='classified-table__body'):\\n    for y in range(len(something)):\\n    #y = soup.find_all('th')\\n        for i in soup.find('th'):\\n            print(i)\\n        #z= soup.find_all('td')\\n        for j in soup.find('td'):\\n            print(j)\\n \""
      ]
     },
     "execution_count": 72,
     "metadata": {},
     "output_type": "execute_result"
    }
   ],
   "source": [
    "from selenium import webdriver\n",
    "from selenium.webdriver.common.keys import Keys\n",
    "from selenium.webdriver.common.by import By\n",
    "root_url = 'https://www.immoweb.be/en'\n",
    "url = 'https://www.immoweb.be/en/classified/house/for-sale/lede/9340/10660142'\n",
    "\n",
    "driver = webdriver.Chrome()\n",
    "\n",
    "#shadow root\n",
    "driver.get(root_url+'/shadow_dom.html')\n",
    "time.sleep(3)\n",
    "element = driver.execute_script(\"\"\"return document.querySelector('#usercentrics-root').shadowRoot.querySelector(\"button[data-testid='uc-accept-all-button']\")\"\"\")\n",
    "element.click()\n",
    "\n",
    "driver.get(url)\n",
    "# Find and print the table text      \n",
    "search = driver.find_elements(By.CLASS_NAME, 'classified-table__row')\n",
    "for x in search:\n",
    "    print(x.text)\n",
    "time.sleep(3)\n",
    "\n",
    "driver.close()"
   ]
  }
 ],
 "metadata": {
  "kernelspec": {
   "display_name": "immoeliza",
   "language": "python",
   "name": "python3"
  },
  "language_info": {
   "codemirror_mode": {
    "name": "ipython",
    "version": 3
   },
   "file_extension": ".py",
   "mimetype": "text/x-python",
   "name": "python",
   "nbconvert_exporter": "python",
   "pygments_lexer": "ipython3",
   "version": "3.11.4"
  },
  "orig_nbformat": 4
 },
 "nbformat": 4,
 "nbformat_minor": 2
}
