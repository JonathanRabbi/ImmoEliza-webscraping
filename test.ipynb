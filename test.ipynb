{
 "cells": [
  {
   "cell_type": "code",
   "execution_count": 263,
   "metadata": {},
   "outputs": [],
   "source": [
    "def needed(needed_things):\n",
    "    list_of_needed = []\n",
    "    list_of_needed.append(needed_things)\n",
    "    print(needed_things)\n",
    "    return list_of_needed\n"
   ]
  },
  {
   "cell_type": "code",
   "execution_count": 265,
   "metadata": {},
   "outputs": [],
   "source": [
    "import requests\n",
    "from bs4 import BeautifulSoup\n",
    "import re\n",
    "#import pandas as pd\n",
    "\n",
    "def details_of_house(url):\n",
    "\n",
    "    list_of_header = []\n",
    "    list_of_data = []\n",
    "    \n",
    "    things  = ['Price', 'Address', 'Locality', 'Bedrooms',  'Energy class', 'Primary energy consumption',  'Kitchen type',  'Furnished' ,'Terrace', 'Terrace surface', 'Surface of the plot', 'Living room surface', 'Number of frontages']\n",
    "    \n",
    "    #connecting url with soup\n",
    "    html_text = requests.get(url)\n",
    "    soup = BeautifulSoup(html_text.content, 'html.parser')\n",
    "\n",
    "    #converting html file into text\n",
    "    text = soup.get_text()\n",
    "    splited_text=text.split()\n",
    "   \n",
    "    #collecting data\n",
    "    all_data = soup.find_all('td' , class_ = 'classified-table__data')\n",
    "    all_header = soup.find_all('th', class_='classified-table__header')\n",
    "    immoweb_code_text = soup.find(class_='classified__header--immoweb-code').text.strip()\n",
    "    immo_code = re.findall('([0-9]+)',immoweb_code_text)#scraping immo code with regex\n",
    "\n",
    "    for header in all_header:\n",
    "        list_of_header.append(header.contents[0].strip())\n",
    "\n",
    "    for data in all_data:\n",
    "        list_of_data.append(data.contents[0].strip())\n",
    "\n",
    "    #creating dict with details of house\n",
    "    result_dict = { x:y for x,y in zip(list_of_header, list_of_data)}\n",
    "\n",
    "    #scraping price\n",
    "    for word in splited_text:\n",
    "        if word.startswith('€'):\n",
    "            result_dict['Price'] = word.replace(',', '')    \n",
    "    \n",
    "    #filtering needed details from result_dict\n",
    "    needed_things={}\n",
    "    for element in things:\n",
    "        if element in result_dict.keys():\n",
    "            needed_things[element]=result_dict[element]\n",
    "        else:\n",
    "            needed_things[element]='Null'\n",
    "    \n",
    "        needed_things['immo_code']=immo_code # adding immo_code to needed things\n",
    "      \n",
    "    needed(needed_things)  "
   ]
  },
  {
   "cell_type": "code",
   "execution_count": 266,
   "metadata": {},
   "outputs": [
    {
     "name": "stdout",
     "output_type": "stream",
     "text": [
      "{'Price': '€225000', 'immo_code': ['10667600'], 'Address': 'Av. Albert 1er 2a', 'Locality': 'Null', 'Bedrooms': '1', 'Energy class': 'C', 'Primary energy consumption': '250', 'Kitchen type': 'Null', 'Furnished': 'Null', 'Terrace': 'Null', 'Terrace surface': '20', 'Surface of the plot': 'Null', 'Living room surface': '23', 'Number of frontages': 'Null'}\n",
      "{'Price': '€157000', 'immo_code': ['10667595'], 'Address': 'place de la Victoire 15', 'Locality': 'Null', 'Bedrooms': '2', 'Energy class': 'E', 'Primary energy consumption': '405', 'Kitchen type': 'Installed', 'Furnished': 'No', 'Terrace': 'Null', 'Terrace surface': '11', 'Surface of the plot': 'Null', 'Living room surface': 'Null', 'Number of frontages': '3'}\n",
      "{'Price': '€299000', 'immo_code': ['10667592'], 'Address': 'Route du Condroz 151', 'Locality': 'Null', 'Bedrooms': '2', 'Energy class': 'G', 'Primary energy consumption': '541', 'Kitchen type': 'Semi equipped', 'Furnished': 'Null', 'Terrace': 'Yes', 'Terrace surface': 'Null', 'Surface of the plot': '378', 'Living room surface': '28', 'Number of frontages': '3'}\n"
     ]
    }
   ],
   "source": [
    "l =['https://www.immoweb.be/en/classified/apartment/for-sale/jambes/5100/10667600','https://www.immoweb.be/en/classified/house/for-sale/fontaine-l%27ev%C3%AAque/6140/10667595','https://www.immoweb.be/en/classified/house/for-sale/neuville-en-condroz/4121/10667592']\n",
    "for x in l:\n",
    "    details_of_house(x)\n"
   ]
  }
 ],
 "metadata": {
  "kernelspec": {
   "display_name": "immoeliza",
   "language": "python",
   "name": "python3"
  },
  "language_info": {
   "codemirror_mode": {
    "name": "ipython",
    "version": 3
   },
   "file_extension": ".py",
   "mimetype": "text/x-python",
   "name": "python",
   "nbconvert_exporter": "python",
   "pygments_lexer": "ipython3",
   "version": "3.11.4"
  },
  "orig_nbformat": 4
 },
 "nbformat": 4,
 "nbformat_minor": 2
}
