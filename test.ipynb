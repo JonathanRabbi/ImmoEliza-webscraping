{
 "cells": [
  {
   "cell_type": "code",
   "execution_count": 1,
   "metadata": {},
   "outputs": [
    {
     "data": {
      "text/plain": [
       "'from bs4 import BeautifulSoup\\nfrom selenium import webdriver\\nfrom selenium.webdriver.common.keys import Keys\\nfrom selenium.webdriver.common.by import By\\nimport time\\n\\nfor_sale = \\'/search/house/for-sale\\'\\nfor_rent = \\'/search/house/for-rent\\' \\nlist_of_districts = [\\'/brussels\\' ] #, \\'/wallonia\\', \\'/gent\\', \\'/namur\\', \\'/hainaut\\', \\'/liege , \\'/antwerp\\'\\'\\ndistricts = \\'/district\\'\\nend_url= \\'?countries=BE&page=1&orderBy=relevance\\'\\nroot_url = \\'https://www.immoweb.be/en\\'\\n\\ndriver = webdriver.Chrome()\\n\\n#shadow root - cookie\\ndriver.get(root_url)\\ntime.sleep(3)\\nelement = driver.execute_script(\"\"\"return document.querySelector(\\'#usercentrics-root\\').shadowRoot.querySelector(\"button[data-testid=\\'uc-accept-all-button\\']\")\"\"\")\\nelement.click()\\n\\ncurrent_link = root_url+for_sale+end_url\\nprint(current_link)\\n\\ndriver.get(current_link)\\ntime.sleep(3)\\n#print(current_link)\\n\\nsearch_results = driver.find_elements(By.CLASS_NAME, \"search-results__item\")\\n\\n\\nfor result in search_results:\\n\\n    try:\\n        # Click on each search result\\n        result.click()\\n        time.sleep(5)    \\n\\n        # Find and print the table text      \\n        search = driver.find_elements(By.CLASS_NAME, \\'classified-table__row\\')\\n        for x in search:\\n            print(x.text)\\n    \\n    except Exception as e:\\n        print(f\"Error occurred while processing search result: {e}\")\\n\\n    driver.back()\\n    time.sleep(3)\\ndriver.close() '"
      ]
     },
     "execution_count": 1,
     "metadata": {},
     "output_type": "execute_result"
    }
   ],
   "source": [
    "'''from bs4 import BeautifulSoup\n",
    "from selenium import webdriver\n",
    "from selenium.webdriver.common.keys import Keys\n",
    "from selenium.webdriver.common.by import By\n",
    "import time\n",
    "\n",
    "for_sale = '/search/house/for-sale'\n",
    "for_rent = '/search/house/for-rent' \n",
    "list_of_districts = ['/brussels' ] #, '/wallonia', '/gent', '/namur', '/hainaut', '/liege , '/antwerp''\n",
    "districts = '/district'\n",
    "end_url= '?countries=BE&page=1&orderBy=relevance'\n",
    "root_url = 'https://www.immoweb.be/en'\n",
    "\n",
    "driver = webdriver.Chrome()\n",
    "\n",
    "#shadow root - cookie\n",
    "driver.get(root_url)\n",
    "time.sleep(3)\n",
    "element = driver.execute_script(\"\"\"return document.querySelector('#usercentrics-root').shadowRoot.querySelector(\"button[data-testid='uc-accept-all-button']\")\"\"\")\n",
    "element.click()\n",
    "\n",
    "current_link = root_url+for_sale+end_url\n",
    "print(current_link)\n",
    "\n",
    "driver.get(current_link)\n",
    "time.sleep(3)\n",
    "#print(current_link)\n",
    "\n",
    "search_results = driver.find_elements(By.CLASS_NAME, \"search-results__item\")\n",
    "\n",
    "\n",
    "for result in search_results:\n",
    "\n",
    "    try:\n",
    "        # Click on each search result\n",
    "        result.click()\n",
    "        time.sleep(5)    \n",
    "\n",
    "        # Find and print the table text      \n",
    "        search = driver.find_elements(By.CLASS_NAME, 'classified-table__row')\n",
    "        for x in search:\n",
    "            print(x.text)\n",
    "    \n",
    "    except Exception as e:\n",
    "        print(f\"Error occurred while processing search result: {e}\")\n",
    "\n",
    "    driver.back()\n",
    "    time.sleep(3)\n",
    "driver.close() '''"
   ]
  },
  {
   "cell_type": "code",
   "execution_count": 247,
   "metadata": {},
   "outputs": [
    {
     "name": "stdout",
     "output_type": "stream",
     "text": [
      "[{'Bedrooms': '2', 'immo_code': ['10546224'], 'Kitchen type': 'Null', 'Furnished': 'No', 'Locality': 'Null', 'Terrace': 'Null', 'Terrace surface': 'Null', 'External reference': '82509301', 'Address': 'Grand Route 8', 'Energy class': 'G', 'Primary energy consumption': '941', 'Price': '€235000'}, {'Bedrooms': '4', 'immo_code': ['10489722'], 'Kitchen type': 'Installed', 'Furnished': 'No', 'Locality': 'Null', 'Terrace': 'Null', 'Terrace surface': '55', 'External reference': 'Aywaille-Sedoz-47B', 'Address': 'Rue de Plainevaux 149/1', 'Energy class': 'C', 'Primary energy consumption': '232', 'Price': '€390000'}, {'Bedrooms': '2', 'immo_code': ['10565907'], 'Kitchen type': 'Null', 'Furnished': 'Null', 'Locality': 'Null', 'Terrace': 'Null', 'Terrace surface': '12', 'External reference': '5342924', 'Address': 'Avenue Laboulle, 32', 'Energy class': 'Not specified', 'Primary energy consumption': 'Not specified', 'Price': '€299500'}, {'Bedrooms': '3', 'immo_code': ['10496404'], 'Kitchen type': 'Null', 'Furnished': 'No', 'Locality': 'Null', 'Terrace': 'Yes', 'Terrace surface': 'Null', 'External reference': '5291193', 'Address': \"Rue Julien d'Andrimont 11/4\", 'Energy class': 'Not specified', 'Primary energy consumption': 'Not specified', 'Price': '€320000'}, {'Bedrooms': '4', 'immo_code': ['10477050'], 'Kitchen type': 'Installed', 'Furnished': 'No', 'Locality': 'Null', 'Terrace': 'Null', 'Terrace surface': '18', 'External reference': '5289538', 'Address': 'Rue de Ciney 168', 'Energy class': 'D', 'Primary energy consumption': '299', 'Price': '€'}, {'Bedrooms': '3', 'immo_code': ['10438654'], 'Kitchen type': 'Not installed', 'Furnished': 'No', 'Locality': 'Null', 'Terrace': 'Null', 'Terrace surface': '27', 'External reference': '5275558', 'Address': 'Avenue Louis Libert 1', 'Energy class': 'Not specified', 'Primary energy consumption': 'Not specified', 'Price': '€330000'}, {'Bedrooms': '2', 'immo_code': ['10422808'], 'Kitchen type': 'Semi equipped', 'Furnished': 'No', 'Locality': 'Null', 'Terrace': 'Yes', 'Terrace surface': 'Null', 'External reference': '5246045', 'Address': 'Avenue Louis Libert 1', 'Energy class': 'E', 'Primary energy consumption': '415', 'Price': '€230000'}, {'Bedrooms': '4', 'immo_code': ['10337712'], 'Kitchen type': 'Installed', 'Furnished': 'No', 'Locality': 'Null', 'Terrace': 'Yes', 'Terrace surface': 'Null', 'External reference': '1105', 'Address': 'Avenue de la Porallée 18/2', 'Energy class': 'F', 'Primary energy consumption': '510', 'Price': '€455000'}, {'Bedrooms': '4', 'immo_code': ['10442122'], 'Kitchen type': 'Not installed', 'Furnished': 'No', 'Locality': 'Null', 'Terrace': 'Null', 'Terrace surface': 'Null', 'External reference': '5277685', 'Address': 'Avenue Louis Libert 1', 'Energy class': 'G', 'Primary energy consumption': '705', 'Price': '€220000'}, {'Bedrooms': '3', 'immo_code': ['10503345'], 'Kitchen type': 'Not installed', 'Furnished': 'No', 'Locality': 'Null', 'Terrace': 'Yes', 'Terrace surface': 'Null', 'External reference': '5312487', 'Address': 'Avenue Louis Libert 1', 'Energy class': 'G', 'Primary energy consumption': '598', 'Price': '€99000'}, {'Bedrooms': '2', 'immo_code': ['10498629'], 'Kitchen type': 'Not installed', 'Furnished': 'No', 'Locality': 'Null', 'Terrace': 'Null', 'Terrace surface': 'Null', 'External reference': '5292457', 'Address': 'Avenue du chêne, 177', 'Energy class': 'G', 'Primary energy consumption': '597', 'Price': '€110000'}, {'Bedrooms': '3', 'immo_code': ['10262629'], 'Kitchen type': 'Null', 'Furnished': 'Null', 'Locality': 'Null', 'Terrace': 'Null', 'Terrace surface': '30', 'External reference': '7660 - 673/4191', 'Address': 'Place Leblanc 28', 'Energy class': 'E', 'Primary energy consumption': '345', 'Price': '€249000'}, {'Bedrooms': '1', 'immo_code': ['10565906'], 'Kitchen type': 'Null', 'Furnished': 'Null', 'Locality': 'Null', 'Terrace': 'Null', 'Terrace surface': '9', 'External reference': '5342921', 'Address': 'Avenue Laboulle, 32', 'Energy class': 'Not specified', 'Primary energy consumption': 'Not specified', 'Price': '€224500'}, {'Bedrooms': '4', 'immo_code': ['10444701'], 'Kitchen type': 'Semi equipped', 'Furnished': 'No', 'Locality': 'Null', 'Terrace': 'Null', 'Terrace surface': 'Null', 'External reference': '5253425', 'Address': 'Avenue Louis Libert 1', 'Energy class': 'C', 'Primary energy consumption': '217', 'Price': '€179000'}, {'Bedrooms': '4', 'immo_code': ['10576010'], 'Kitchen type': 'Installed', 'Furnished': 'No', 'Locality': 'Null', 'Terrace': 'Yes', 'Terrace surface': 'Null', 'External reference': '5347238', 'Address': 'Rue de Herve 70', 'Energy class': 'D', 'Primary energy consumption': '331', 'Price': '€225000'}, {'Bedrooms': '3', 'immo_code': ['10153448'], 'Kitchen type': 'Installed', 'Furnished': 'Null', 'Locality': 'Null', 'Terrace': 'Null', 'Terrace surface': 'Null', 'External reference': '5769 - 673/3539', 'Address': 'Place Leblanc 28', 'Energy class': 'D', 'Primary energy consumption': '295', 'Price': '€199000'}, {'Bedrooms': '5', 'immo_code': ['10393318'], 'Kitchen type': 'Hyper equipped', 'Furnished': 'Null', 'Locality': 'Null', 'Terrace': 'Yes', 'Terrace surface': 'Null', 'External reference': '5254293', 'Address': 'Place Communale 3', 'Energy class': 'E', 'Primary energy consumption': '424', 'Price': '€'}, {'Bedrooms': '1', 'immo_code': ['10470638'], 'Kitchen type': 'Semi equipped', 'Furnished': 'No', 'Locality': 'Null', 'Terrace': 'Null', 'Terrace surface': 'Null', 'External reference': '5289436', 'Address': 'Avenue Louis Libert 1', 'Energy class': 'D', 'Primary energy consumption': '340', 'Price': '€'}, {'Bedrooms': '3', 'immo_code': ['10565905'], 'Kitchen type': 'Null', 'Furnished': 'Null', 'Locality': 'Null', 'Terrace': 'Null', 'Terrace surface': '19', 'External reference': '5342913', 'Address': 'Avenue Laboulle, 32', 'Energy class': 'Not specified', 'Primary energy consumption': 'Not specified', 'Price': '€374500'}, {'Bedrooms': '4', 'immo_code': ['10395673'], 'Kitchen type': 'Null', 'Furnished': 'No', 'Locality': 'Null', 'Terrace': 'Null', 'Terrace surface': '55', 'External reference': 'W3826', 'Address': 'Avenue Franklin Roosevelt 22A', 'Energy class': 'A', 'Primary energy consumption': '77', 'Price': '€475000'}, {'Bedrooms': '2', 'immo_code': ['10433041'], 'Kitchen type': 'Not installed', 'Furnished': 'Null', 'Locality': 'Null', 'Terrace': 'Null', 'Terrace surface': 'Null', 'External reference': '5274015', 'Address': 'Avenue Louis Libert 1', 'Energy class': 'G', 'Primary energy consumption': '536', 'Price': '€125000'}, {'Bedrooms': '3', 'immo_code': ['10318862'], 'Kitchen type': 'Installed', 'Furnished': 'No', 'Locality': 'Null', 'Terrace': 'Null', 'Terrace surface': '20', 'External reference': '5142760', 'Address': \"Voie de l'Ardenne 179\", 'Energy class': 'C', 'Primary energy consumption': '249', 'Price': '€'}, {'Bedrooms': '3', 'immo_code': ['10565857'], 'Kitchen type': 'Hyper equipped', 'Furnished': 'No', 'Locality': 'Null', 'Terrace': 'Yes', 'Terrace surface': 'Null', 'External reference': '5335215', 'Address': 'Avenue Louis Libert 1', 'Energy class': 'C', 'Primary energy consumption': '221', 'Price': '€339000'}, {'Bedrooms': '4', 'immo_code': ['10439166'], 'Kitchen type': 'Installed', 'Furnished': 'No', 'Locality': 'Null', 'Terrace': 'Null', 'Terrace surface': 'Null', 'External reference': '1335', 'Address': 'Avenue de la Porallée 18/2', 'Energy class': 'F', 'Primary energy consumption': '446', 'Price': '€179000'}, {'Bedrooms': '2', 'immo_code': ['10563359'], 'Kitchen type': 'Not installed', 'Furnished': 'Yes', 'Locality': 'Null', 'Terrace': 'Null', 'Terrace surface': 'Null', 'External reference': '5304552', 'Address': 'Avenue Louis Libert 1', 'Energy class': 'G', 'Primary energy consumption': '642', 'Price': '€155000'}, {'Bedrooms': '1', 'immo_code': ['10555783'], 'Kitchen type': 'Semi equipped', 'Furnished': 'Null', 'Locality': 'Null', 'Terrace': 'Null', 'Terrace surface': 'Null', 'External reference': '2815 - 2499', 'Address': 'Rue de Hotton, 22', 'Energy class': 'E', 'Primary energy consumption': '418', 'Price': '€129000'}, {'Bedrooms': '2', 'immo_code': ['10429671'], 'Kitchen type': 'Null', 'Furnished': 'Null', 'Locality': 'Null', 'Terrace': 'Null', 'Terrace surface': '60', 'External reference': '481 - 1730', 'Address': 'Chaussée Roosevelt 11', 'Energy class': 'F', 'Primary energy consumption': '469', 'Price': '€169000'}, {'Bedrooms': '2', 'immo_code': ['10436121'], 'Kitchen type': 'Installed', 'Furnished': 'No', 'Locality': 'Null', 'Terrace': 'Null', 'Terrace surface': '15', 'External reference': 'Null', 'Address': 'Rue du Vieux-Mayeur 51', 'Energy class': 'C', 'Primary energy consumption': '187', 'Price': '€210000'}, {'Bedrooms': '1', 'immo_code': ['10565904'], 'Kitchen type': 'Null', 'Furnished': 'Null', 'Locality': 'Null', 'Terrace': 'Null', 'Terrace surface': '10', 'External reference': '5342911', 'Address': 'Avenue Laboulle, 32', 'Energy class': 'Not specified', 'Primary energy consumption': 'Not specified', 'Price': '€199500'}, {'Bedrooms': '4', 'immo_code': ['10486111'], 'Kitchen type': 'USA hyper equipped', 'Furnished': 'Null', 'Locality': 'Null', 'Terrace': 'Yes', 'Terrace surface': 'Null', 'External reference': '5299571', 'Address': 'Place Communale 3', 'Energy class': 'A', 'Primary energy consumption': '77', 'Price': '€'}]\n"
     ]
    }
   ],
   "source": [
    "import requests\n",
    "from bs4 import BeautifulSoup\n",
    "import re\n",
    "\n",
    "root_url = 'https://www.immoweb.be/en'\n",
    "list_of_urls = ['https://www.immoweb.be/en/classified/chalet/for-sale/aywaille/4920/10546224', 'https://www.immoweb.be/en/classified/house/for-sale/aywaille/4920/10489722', 'https://www.immoweb.be/en/classified/ground-floor/for-sale/aywaille/4920/10565907', 'https://www.immoweb.be/en/classified/house/for-sale/harze/4920/10496404', 'https://www.immoweb.be/en/classified/house/for-sale/aywaille%20-remouchamps/4920/10477050', 'https://www.immoweb.be/en/classified/villa/for-sale/aywaille/4920/10438654', 'https://www.immoweb.be/en/classified/house/for-sale/aywaille/4920/10422808', 'https://www.immoweb.be/en/classified/house/for-sale/aywaille/4920/10337712', 'https://www.immoweb.be/en/classified/mixed-use-building/for-sale/aywaille/4920/10442122', 'https://www.immoweb.be/en/classified/house/for-sale/aywaille/4920/10503345', 'https://www.immoweb.be/en/classified/house/for-sale/sougn%C3%A9-remouchamps/4920/10498629', 'https://www.immoweb.be/en/classified/house/for-sale/aywaille/4920/10262629', 'https://www.immoweb.be/en/classified/penthouse/for-sale/aywaille/4920/10565906', 'https://www.immoweb.be/en/classified/apartment/for-sale/aywaille/4920/10444701', 'https://www.immoweb.be/en/classified/chalet/for-sale/aywaille/4920/10576010', 'https://www.immoweb.be/en/classified/apartment/for-sale/aywaille/4920/10153448', 'https://www.immoweb.be/en/classified/villa/for-sale/aywaille/4920/10393318', 'https://www.immoweb.be/en/classified/house/for-sale/aywaille/4920/10470638', 'https://www.immoweb.be/en/classified/penthouse/for-sale/aywaille/4920/10565905', 'https://www.immoweb.be/en/classified/house/for-sale/aywaille/4920/10395673', 'https://www.immoweb.be/en/classified/house/for-sale/aywaille/4920/10433041', 'https://www.immoweb.be/en/classified/apartment-block/for-sale/aywaille/4920/10318862', 'https://www.immoweb.be/en/classified/house/for-sale/aywaille/4920/10565857', 'https://www.immoweb.be/en/classified/house/for-sale/aywaille/4920/10439166', 'https://www.immoweb.be/en/classified/house/for-sale/aywaille/4920/10563359', 'https://www.immoweb.be/en/classified/house/for-sale/aywaille/4920/10555783', 'https://www.immoweb.be/en/classified/house/for-sale/aywaille/4920/10429671', 'https://www.immoweb.be/en/classified/house/for-sale/harz%C3%A9/4920/10436121', 'https://www.immoweb.be/en/classified/apartment/for-sale/aywaille/4920/10565904', 'https://www.immoweb.be/en/classified/villa/for-sale/aywaille%20%28nonceveux%29/4920/10486111']\n",
    "things = ['Bedrooms',  'Kitchen type', 'Furnished', 'Locality','Terrace','Terrace surface', 'External reference', 'Address', 'Energy class', 'Primary energy consumption','Price']\n",
    "list_of_needed = []\n",
    "\n",
    "for url in list_of_urls:\n",
    "    \n",
    "    html_text = requests.get(url)\n",
    "    soup = BeautifulSoup(html_text.content, 'html.parser')\n",
    "    text = soup.get_text()\n",
    "    t=text.split()\n",
    "   \n",
    "    all_data = soup.find_all('td' , class_ = 'classified-table__data')\n",
    "    all_header = soup.find_all('th', class_='classified-table__header')\n",
    "\n",
    "    immoweb_code_text = soup.find(class_='classified__header--immoweb-code').text.strip()\n",
    "    immo_code = re.findall('([0-9]+)',immoweb_code_text)\n",
    "    \n",
    "    list_of_header = []\n",
    "    list_of_data = []\n",
    "\n",
    "    for header in all_header:\n",
    "        list_of_header.append(header.contents[0].strip())\n",
    "\n",
    "    for data in all_data:\n",
    "        list_of_data.append(data.contents[0].strip())\n",
    "\n",
    "    result_dict = { x:y for x,y in zip(list_of_header, list_of_data)}\n",
    "    for x in t:\n",
    "        if x.startswith('€'):\n",
    "            result_dict['Price'] = x.replace(',', '')\n",
    "       #span = data.find(\"span\", attrs={\"aria-hidden\": \"true\"})     \n",
    "    \n",
    "    needed_things={}\n",
    "    for x in things:\n",
    "        if x in result_dict.keys():\n",
    "            needed_things[x]=result_dict[x]\n",
    "        else:\n",
    "            needed_things[x]='Null'\n",
    "    \n",
    "        needed_things['immo_code']=immo_code\n",
    "   # needed_things.update(immoweb_code)\n",
    "    list_of_needed.append(needed_things)\n",
    "\n",
    "print(list_of_needed)    "
   ]
  },
  {
   "cell_type": "code",
   "execution_count": 248,
   "metadata": {},
   "outputs": [],
   "source": [
    "import csv\n",
    "with open('test.csv', 'w' ) as f:\n",
    "    #writer=csv.writer()\n",
    "    f.write(','.join(list_of_needed[0].keys()))\n",
    "    f.write('\\n')\n",
    "    for row in list_of_needed:\n",
    "        f.write(','.join(str(x).encode('utf-8').decode('utf-8') for x in row.values()))\n",
    "        f.write('\\n')\n"
   ]
  },
  {
   "cell_type": "code",
   "execution_count": 244,
   "metadata": {},
   "outputs": [
    {
     "name": "stdout",
     "output_type": "stream",
     "text": [
      "['After signing the deed', 'Oost- Vlaanderen', '1950', 'To be done up', '6 m', '3', 'Urban', '', '', 'Installed', '', '3', '', '', '', '1', '1', 'Yes', 'Yes', 'No', '', '', 'Connected', 'Yes', '', 'Yes', 'No', 'No', 'No', 'Yes', 'No', '', 'E', '20230626-0002928488-RES-1', 'Not specified', 'Not specified', 'Gas', 'No', 'No', 'No', 'Living area (residential, urban or rural)', '€ 219,000', '€ 487', 'No', 'Hoogstraat 20', '', '5389284']\n"
     ]
    }
   ],
   "source": [
    "url = 'https://www.immoweb.be/en/classified/house/for-sale/lede/9340/10660142'\n",
    "html_text = requests.get(url)\n",
    "soup = BeautifulSoup(html_text.content, 'html.parser')\n",
    "pretty = soup.prettify()\n",
    "\n",
    "all_data = soup.find_all('td' , class_ = 'classified-table__data')\n",
    "l=[]\n",
    "for data in all_data:\n",
    "    if data.find_all('span'):\n",
    "        span_content = data.find_all('span')[0].contents[0].strip()\n",
    "        l.append(span_content)\n",
    "    else:\n",
    "        l.append(data.contents[0].strip())\n",
    "print(l)\n",
    "        \n",
    "    #print(soup.span.text.strip())"
   ]
  },
  {
   "cell_type": "code",
   "execution_count": 225,
   "metadata": {},
   "outputs": [
    {
     "name": "stdout",
     "output_type": "stream",
     "text": [
      "['Immoweb code : 10486111']\n",
      "{'Available as of': 'After signing the deed', 'Available date': 'June 27 2023 - 12:00 AM', 'Construction year': '1899', 'Building condition': 'To be done up', 'Number of frontages': '2', 'Surroundings type': 'Urban', 'Living area': '100', 'Living room surface': '18', 'Kitchen type': 'Not installed', 'Kitchen surface': '14', 'Bedrooms': '1', 'Bedroom 1 surface': '14', 'Bathrooms': '1', 'Shower rooms': '1', 'Toilets': '1', 'Office surface': '7', 'Office': 'Yes', 'Basement': 'Yes', 'Furnished': 'No', 'Surface of the plot': '242', 'Terrace': 'Yes', 'Primary energy consumption': '888', 'Energy class': 'G', 'Reference number of the EPC report': '20230627007711', 'CO₂ emission': '253 kg CO₂/m²', 'Yearly theoretical total energy consumption': '109274 kWh/year', 'Heating type': 'Electric', 'Double glazing': 'Yes', 'Planning permission obtained': 'Yes', 'Subdivision permit': 'No', 'Possible priority purchase right': 'No', 'Proceedings for breach of planning regulations': 'No', 'Latest land use designation': 'Living area (residential, urban or rural)', 'Price': '', 'Cadastral income': '', 'Tenement building': 'No', 'Address': \"Voie de L'air Pur 211\", 'Website': '', 'External reference': '5394692'}\n"
     ]
    }
   ],
   "source": [
    "url = 'https://www.immoweb.be/en/classified/house/for-sale/aywaille%20sougn%C3%A9-remouchamps/4920/10663667'\n",
    "html_text = requests.get(url)\n",
    "soup = BeautifulSoup(html_text.content, 'html.parser')\n",
    "\n",
    "all_data = soup.find_all('td' , class_ = 'classified-table__data')\n",
    "all_header = soup.find_all('th', class_='classified-table__header')\n",
    "list_of_header = []\n",
    "list_of_data = []\n",
    "mmoweb_code = soup.find(class_='classified__header--immoweb-code').text.strip()\n",
    "x = immoweb_code.split(',')\n",
    "print(x)\n",
    "\n",
    "\n",
    "for header in all_header:\n",
    "        list_of_header.append(header.contents[0].strip())\n",
    "\n",
    "for data in all_data:\n",
    "        list_of_data.append(data.contents[0].strip())\n",
    "result_dict = { x:y for x,y in zip(list_of_header, list_of_data)}\n",
    "print(result_dict)"
   ]
  }
 ],
 "metadata": {
  "kernelspec": {
   "display_name": "immoeliza",
   "language": "python",
   "name": "python3"
  },
  "language_info": {
   "codemirror_mode": {
    "name": "ipython",
    "version": 3
   },
   "file_extension": ".py",
   "mimetype": "text/x-python",
   "name": "python",
   "nbconvert_exporter": "python",
   "pygments_lexer": "ipython3",
   "version": "3.11.4"
  },
  "orig_nbformat": 4
 },
 "nbformat": 4,
 "nbformat_minor": 2
}
