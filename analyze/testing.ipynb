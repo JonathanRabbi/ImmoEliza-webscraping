{
 "cells": [
  {
   "cell_type": "code",
   "execution_count": 34,
   "metadata": {},
   "outputs": [
    {
     "name": "stdout",
     "output_type": "stream",
     "text": [
      "      Price               Address  Bedrooms Energy class  \\\n",
      "0         €        Grote Markt 22         4            C   \n",
      "1   €469000  Heidestatiestraat 26         3            D   \n",
      "2  €1395000      Rue de Wavre, 27         5            C   \n",
      "3   €285000  Avenue de Longwy 340         2            D   \n",
      "4   €285000  Avenue de Longwy 340         2            D   \n",
      "\n",
      "  Primary energy consumption Furnished Terrace  Terrace surface  \\\n",
      "0                        218        No       0               30   \n",
      "1                        390        No     Yes                0   \n",
      "2                        178         0       0               60   \n",
      "3                        299         0       0                0   \n",
      "4                        299         0       0                0   \n",
      "\n",
      "   Surface of the plot  Living room surface  ...  Building condition  \\\n",
      "0                    0                    0  ...              As new   \n",
      "1                  760                   34  ...                   0   \n",
      "2                 6468                   50  ...                Good   \n",
      "3                    0                    0  ...                Good   \n",
      "4                    0                    0  ...                Good   \n",
      "\n",
      "   Outdoor parking space Bathrooms  Shower rooms  Office  Toilets  \\\n",
      "0                      0         1             0       0        2   \n",
      "1                      0         1             0       0        2   \n",
      "2                      0         2             3     Yes        4   \n",
      "3                      0         2             0       0        2   \n",
      "4                      0         2             0       0        2   \n",
      "\n",
      "     Kitchen type  Heating type immo_code postal code  \n",
      "0               0           Gas  10666429        2300  \n",
      "1       Installed             0  10666428        2910  \n",
      "2  Hyper equipped      Fuel oil  10666426        1301  \n",
      "3       Installed      Electric  10666424        6700  \n",
      "4       Installed      Electric  10666423        6700  \n",
      "\n",
      "[5 rows x 22 columns]\n"
     ]
    }
   ],
   "source": [
    "import numpy as np\n",
    "import pandas as pd\n",
    "x = pd.read_csv('fre10k.csv')\n",
    "print(x.head())\n"
   ]
  },
  {
   "cell_type": "code",
   "execution_count": 39,
   "metadata": {},
   "outputs": [
    {
     "data": {
      "text/plain": [
       "Address           postal code\n",
       ".                 1020           2\n",
       "                  5590           1\n",
       "                  5020           1\n",
       "                  1200           1\n",
       "/                 2360           1\n",
       "                                ..\n",
       "rue du bosquet 3  1325           1\n",
       "strandlaan, 337   8670           3\n",
       "‘Heuvelstraat 86  2540           1\n",
       "                  2160           1\n",
       "                  2600           1\n",
       "Name: count, Length: 5609, dtype: int64"
      ]
     },
     "execution_count": 39,
     "metadata": {},
     "output_type": "execute_result"
    }
   ],
   "source": [
    "x.groupby('Address')['postal code'].value_counts()"
   ]
  },
  {
   "cell_type": "code",
   "execution_count": null,
   "metadata": {},
   "outputs": [],
   "source": []
  }
 ],
 "metadata": {
  "kernelspec": {
   "display_name": "immoeliza",
   "language": "python",
   "name": "python3"
  },
  "language_info": {
   "codemirror_mode": {
    "name": "ipython",
    "version": 3
   },
   "file_extension": ".py",
   "mimetype": "text/x-python",
   "name": "python",
   "nbconvert_exporter": "python",
   "pygments_lexer": "ipython3",
   "version": "3.11.4"
  },
  "orig_nbformat": 4
 },
 "nbformat": 4,
 "nbformat_minor": 2
}
