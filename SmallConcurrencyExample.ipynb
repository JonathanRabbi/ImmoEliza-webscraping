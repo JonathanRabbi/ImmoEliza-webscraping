{
  "cells": [
    {
      "attachments": {},
      "cell_type": "markdown",
      "metadata": {
        "id": "EQLR2HvqHUbf"
      },
      "source": [
        "## Some thoughts on Concurrency\n",
        "\n",
        "![onetask](https://www.pythontutorial.net/wp-content/uploads/2020/12/Python-Threading-Single-threaded-App.png)\n",
        "\n",
        "A computer with only one CPU cannot perform more than one task at a time. When given multiple tasks, such as making requests to the Google, Twitter, and Medium websites, it simply switches between them. This switching is so quick and seamless that it appears to the user to be multitasking.\n",
        "\n",
        "![one_CPU](https://miro.medium.com/v2/resize:fit:1100/format:webp/1*j_zj53jzmDQm91Ql8NgtfA.png)\n",
        "\n",
        "By using threading, we can shorten the computational time to execute a task multiple times. Source: [Python Threading](https://www.pythontutorial.net/python-concurrency/python-threading/).\n",
        "\n",
        "![multi](https://www.pythontutorial.net/wp-content/uploads/2020/12/Python-Threading-Multi-threaded-App.png)\n",
        "\n",
        "Source: [Short intro to concurrency](https://levelup.gitconnected.com/a-short-intro-on-concurrency-and-parallelism-1417bd04e881)\n",
        "\n",
        "* A thread pool is a pattern for managing multiple threads efficiently.\n",
        "* Use ThreadPoolExecutor class to manage a thread pool in Python.\n",
        "* Call the `submit()` method of the ThreadPoolExecutor to submit a task to the thread pool for execution. The `submit()` method returns a Future object.\n",
        "* Call the `map()` method of the ThreadPoolExecutor class to execute a function in a thread pool with each element in a list."
      ]
    },
    {
      "attachments": {},
      "cell_type": "markdown",
      "metadata": {
        "id": "22qQbuPyzlaW"
      },
      "source": [
        "This example illustrates how to implement concurrencry using the concurrent.futures Python module.\n",
        "\n",
        "Here we illustrate how much time can be save scrapping 3 properties links using their url as input."
      ]
    },
    {
      "cell_type": "markdown",
      "metadata": {},
      "source": [
        "!pip install futures"
      ]
    },
    {
      "cell_type": "code",
      "execution_count": 1,
      "metadata": {
        "id": "aD9kRg1aM9Eo"
      },
      "outputs": [
        {
          "ename": "JSONDecodeError",
          "evalue": "Extra data: line 1 column 2442 (char 2441)",
          "output_type": "error",
          "traceback": [
            "\u001b[1;31m---------------------------------------------------------------------------\u001b[0m",
            "\u001b[1;31mJSONDecodeError\u001b[0m                           Traceback (most recent call last)",
            "Cell \u001b[1;32mIn[1], line 8\u001b[0m\n\u001b[0;32m      5\u001b[0m \u001b[39mimport\u001b[39;00m \u001b[39mjson\u001b[39;00m\n\u001b[0;32m      7\u001b[0m \u001b[39mwith\u001b[39;00m \u001b[39mopen\u001b[39m(\u001b[39m\"\u001b[39m\u001b[39mfinal_url_list.json\u001b[39m\u001b[39m\"\u001b[39m, \u001b[39m'\u001b[39m\u001b[39mr\u001b[39m\u001b[39m'\u001b[39m) \u001b[39mas\u001b[39;00m f:\n\u001b[1;32m----> 8\u001b[0m     url_list \u001b[39m=\u001b[39m json\u001b[39m.\u001b[39;49mload(f)\n\u001b[0;32m     10\u001b[0m \u001b[39m\"\"\"url_list = ['https://www.immoweb.be/en/classified/house/for-sale/lede/9340/10660142',\u001b[39;00m\n\u001b[0;32m     11\u001b[0m \u001b[39m        'https://www.immoweb.be/en/classified/house/for-sale/gent/9000/10660214'\u001b[39;00m\n\u001b[0;32m     12\u001b[0m \u001b[39m        ]\"\"\"\u001b[39;00m\n\u001b[0;32m     14\u001b[0m \u001b[39mdef\u001b[39;00m \u001b[39mhouse_scrapper\u001b[39m(url):\n",
            "File \u001b[1;32mC:\\Program Files\\Python310\\lib\\json\\__init__.py:293\u001b[0m, in \u001b[0;36mload\u001b[1;34m(fp, cls, object_hook, parse_float, parse_int, parse_constant, object_pairs_hook, **kw)\u001b[0m\n\u001b[0;32m    274\u001b[0m \u001b[39mdef\u001b[39;00m \u001b[39mload\u001b[39m(fp, \u001b[39m*\u001b[39m, \u001b[39mcls\u001b[39m\u001b[39m=\u001b[39m\u001b[39mNone\u001b[39;00m, object_hook\u001b[39m=\u001b[39m\u001b[39mNone\u001b[39;00m, parse_float\u001b[39m=\u001b[39m\u001b[39mNone\u001b[39;00m,\n\u001b[0;32m    275\u001b[0m         parse_int\u001b[39m=\u001b[39m\u001b[39mNone\u001b[39;00m, parse_constant\u001b[39m=\u001b[39m\u001b[39mNone\u001b[39;00m, object_pairs_hook\u001b[39m=\u001b[39m\u001b[39mNone\u001b[39;00m, \u001b[39m*\u001b[39m\u001b[39m*\u001b[39mkw):\n\u001b[0;32m    276\u001b[0m \u001b[39m    \u001b[39m\u001b[39m\"\"\"Deserialize ``fp`` (a ``.read()``-supporting file-like object containing\u001b[39;00m\n\u001b[0;32m    277\u001b[0m \u001b[39m    a JSON document) to a Python object.\u001b[39;00m\n\u001b[0;32m    278\u001b[0m \n\u001b[1;32m   (...)\u001b[0m\n\u001b[0;32m    291\u001b[0m \u001b[39m    kwarg; otherwise ``JSONDecoder`` is used.\u001b[39;00m\n\u001b[0;32m    292\u001b[0m \u001b[39m    \"\"\"\u001b[39;00m\n\u001b[1;32m--> 293\u001b[0m     \u001b[39mreturn\u001b[39;00m loads(fp\u001b[39m.\u001b[39mread(),\n\u001b[0;32m    294\u001b[0m         \u001b[39mcls\u001b[39m\u001b[39m=\u001b[39m\u001b[39mcls\u001b[39m, object_hook\u001b[39m=\u001b[39mobject_hook,\n\u001b[0;32m    295\u001b[0m         parse_float\u001b[39m=\u001b[39mparse_float, parse_int\u001b[39m=\u001b[39mparse_int,\n\u001b[0;32m    296\u001b[0m         parse_constant\u001b[39m=\u001b[39mparse_constant, object_pairs_hook\u001b[39m=\u001b[39mobject_pairs_hook, \u001b[39m*\u001b[39m\u001b[39m*\u001b[39mkw)\n",
            "File \u001b[1;32mC:\\Program Files\\Python310\\lib\\json\\__init__.py:346\u001b[0m, in \u001b[0;36mloads\u001b[1;34m(s, cls, object_hook, parse_float, parse_int, parse_constant, object_pairs_hook, **kw)\u001b[0m\n\u001b[0;32m    341\u001b[0m     s \u001b[39m=\u001b[39m s\u001b[39m.\u001b[39mdecode(detect_encoding(s), \u001b[39m'\u001b[39m\u001b[39msurrogatepass\u001b[39m\u001b[39m'\u001b[39m)\n\u001b[0;32m    343\u001b[0m \u001b[39mif\u001b[39;00m (\u001b[39mcls\u001b[39m \u001b[39mis\u001b[39;00m \u001b[39mNone\u001b[39;00m \u001b[39mand\u001b[39;00m object_hook \u001b[39mis\u001b[39;00m \u001b[39mNone\u001b[39;00m \u001b[39mand\u001b[39;00m\n\u001b[0;32m    344\u001b[0m         parse_int \u001b[39mis\u001b[39;00m \u001b[39mNone\u001b[39;00m \u001b[39mand\u001b[39;00m parse_float \u001b[39mis\u001b[39;00m \u001b[39mNone\u001b[39;00m \u001b[39mand\u001b[39;00m\n\u001b[0;32m    345\u001b[0m         parse_constant \u001b[39mis\u001b[39;00m \u001b[39mNone\u001b[39;00m \u001b[39mand\u001b[39;00m object_pairs_hook \u001b[39mis\u001b[39;00m \u001b[39mNone\u001b[39;00m \u001b[39mand\u001b[39;00m \u001b[39mnot\u001b[39;00m kw):\n\u001b[1;32m--> 346\u001b[0m     \u001b[39mreturn\u001b[39;00m _default_decoder\u001b[39m.\u001b[39;49mdecode(s)\n\u001b[0;32m    347\u001b[0m \u001b[39mif\u001b[39;00m \u001b[39mcls\u001b[39m \u001b[39mis\u001b[39;00m \u001b[39mNone\u001b[39;00m:\n\u001b[0;32m    348\u001b[0m     \u001b[39mcls\u001b[39m \u001b[39m=\u001b[39m JSONDecoder\n",
            "File \u001b[1;32mC:\\Program Files\\Python310\\lib\\json\\decoder.py:340\u001b[0m, in \u001b[0;36mJSONDecoder.decode\u001b[1;34m(self, s, _w)\u001b[0m\n\u001b[0;32m    338\u001b[0m end \u001b[39m=\u001b[39m _w(s, end)\u001b[39m.\u001b[39mend()\n\u001b[0;32m    339\u001b[0m \u001b[39mif\u001b[39;00m end \u001b[39m!=\u001b[39m \u001b[39mlen\u001b[39m(s):\n\u001b[1;32m--> 340\u001b[0m     \u001b[39mraise\u001b[39;00m JSONDecodeError(\u001b[39m\"\u001b[39m\u001b[39mExtra data\u001b[39m\u001b[39m\"\u001b[39m, s, end)\n\u001b[0;32m    341\u001b[0m \u001b[39mreturn\u001b[39;00m obj\n",
            "\u001b[1;31mJSONDecodeError\u001b[0m: Extra data: line 1 column 2442 (char 2441)"
          ]
        }
      ],
      "source": [
        "import requests\n",
        "from bs4 import BeautifulSoup\n",
        "from concurrent.futures import ThreadPoolExecutor,ProcessPoolExecutor, as_completed\n",
        "import time\n",
        "import json\n",
        "\n",
        "with open(\"final_url_list.json\", 'r') as f:\n",
        "    url_list = json.load(f)\n",
        "\n",
        "\"\"\"url_list = ['https://www.immoweb.be/en/classified/house/for-sale/lede/9340/10660142',\n",
        "        'https://www.immoweb.be/en/classified/house/for-sale/gent/9000/10660214'\n",
        "        ]\"\"\"\n",
        "\n",
        "def house_scrapper(url):\n",
        "    r = requests.get(url)\n",
        "    soup = BeautifulSoup(r.content, 'html.parser')\n",
        "    links = soup.find_all('td', {\"class\":\"classified-table__data\"})\n",
        "    results = []\n",
        "    for link  in links:\n",
        "        results.append(link.contents[0].strip(' \\t\\n\\r'))\n",
        "\n",
        "    return results\n"
      ]
    },
    {
      "attachments": {},
      "cell_type": "markdown",
      "metadata": {
        "id": "NuM-1AoZxVzM"
      },
      "source": [
        "# Without concurrency"
      ]
    },
    {
      "cell_type": "code",
      "execution_count": 4,
      "metadata": {
        "colab": {
          "base_uri": "https://localhost:8080/"
        },
        "id": "E-xJBfsexY0p",
        "outputId": "3f9a4092-9a4b-4f86-92b1-4f0b6ce47d27"
      },
      "outputs": [
        {
          "name": "stdout",
          "output_type": "stream",
          "text": [
            "Time Taken: 1.135832s\n",
            "[['After signing the deed', 'Oost- Vlaanderen', '1950', 'To be done up', '6 m', '3', 'Urban', '170', '32', 'Installed', '15', '3', '17', '12', '6', '1', '1', 'Yes', 'Yes', 'No', '564', '', 'Connected', 'Yes', '450', 'Yes', 'No', 'No', 'No', 'Yes', 'No', '452', 'E', '20230626-0002928488-RES-1', 'Not specified', 'Not specified', 'Gas', 'No', 'No', 'No', 'Living area (residential, urban or rural)', '', '', 'No', 'Hoogstraat 20', '', '5389284'], ['After signing the deed', 'October 1 2023 - 12:00 AM', '1899', 'Good', '4.2 m', '2', 'Urban', '119', '14', 'USA installed', '17', '3', '14', '14', '10', '2', '2', '2', 'Yes', 'No', '55', 'Connected', 'Yes', 'No', 'No', 'Yes', 'No', '246', 'C', '20230622-0002923649-RES-1', '4167 kg CO₂/m²', 'Not specified', 'Gas', 'Yes', 'Yes', 'No', 'Yes', 'No', 'Non flood zone', 'Living area (residential, urban or rural)', '', '', 'No', 'Sint-Denijslaan 1', '', '5416299']]\n"
          ]
        }
      ],
      "source": [
        "start = time.time()\n",
        "all_links = []\n",
        "for url in url_list:\n",
        "    result = house_scrapper(url)\n",
        "    all_links.append(result)\n",
        "\n",
        "end = time.time()\n",
        "print(\"Time Taken: {:.6f}s\".format(end-start))\n",
        "print(all_links)"
      ]
    },
    {
      "cell_type": "code",
      "execution_count": null,
      "metadata": {
        "id": "bgTgw6hXASj9"
      },
      "outputs": [],
      "source": []
    },
    {
      "attachments": {},
      "cell_type": "markdown",
      "metadata": {
        "id": "Q1UIv8TsxTdx"
      },
      "source": [
        "# With concurrency"
      ]
    },
    {
      "cell_type": "code",
      "execution_count": 5,
      "metadata": {
        "colab": {
          "base_uri": "https://localhost:8080/"
        },
        "id": "n1eF_2L4yY3V",
        "outputId": "08390b80-49a1-49f4-890e-c73caccd7192"
      },
      "outputs": [
        {
          "name": "stdout",
          "output_type": "stream",
          "text": [
            "Time Taken: 0.727800s\n",
            "[['After signing the deed', 'Oost- Vlaanderen', '1950', 'To be done up', '6 m', '3', 'Urban', '170', '32', 'Installed', '15', '3', '17', '12', '6', '1', '1', 'Yes', 'Yes', 'No', '564', '', 'Connected', 'Yes', '450', 'Yes', 'No', 'No', 'No', 'Yes', 'No', '452', 'E', '20230626-0002928488-RES-1', 'Not specified', 'Not specified', 'Gas', 'No', 'No', 'No', 'Living area (residential, urban or rural)', '', '', 'No', 'Hoogstraat 20', '', '5389284'], ['After signing the deed', 'October 1 2023 - 12:00 AM', '1899', 'Good', '4.2 m', '2', 'Urban', '119', '14', 'USA installed', '17', '3', '14', '14', '10', '2', '2', '2', 'Yes', 'No', '55', 'Connected', 'Yes', 'No', 'No', 'Yes', 'No', '246', 'C', '20230622-0002923649-RES-1', '4167 kg CO₂/m²', 'Not specified', 'Gas', 'Yes', 'Yes', 'No', 'Yes', 'No', 'Non flood zone', 'Living area (residential, urban or rural)', '', '', 'No', 'Sint-Denijslaan 1', '', '5416299']]\n"
          ]
        }
      ],
      "source": [
        "with ThreadPoolExecutor(max_workers=10) as executor:\n",
        "    start = time.time()\n",
        "    futures = [executor.submit(house_scrapper, url) for url in url_list]\n",
        "    results =  [item.result() for item in futures]\n",
        "    end = time.time()\n",
        "    print(\"Time Taken: {:.6f}s\".format(end-start))\n",
        "    print(results)\n"
      ]
    },
    {
      "cell_type": "code",
      "execution_count": 6,
      "metadata": {
        "colab": {
          "base_uri": "https://localhost:8080/"
        },
        "id": "MOAHWBQ3NLKr",
        "outputId": "2c0f692d-d106-4410-8f77-9fa2a869cdcc"
      },
      "outputs": [
        {
          "ename": "BrokenProcessPool",
          "evalue": "A process in the process pool was terminated abruptly while the future was running or pending.",
          "output_type": "error",
          "traceback": [
            "\u001b[1;31m---------------------------------------------------------------------------\u001b[0m",
            "\u001b[1;31mBrokenProcessPool\u001b[0m                         Traceback (most recent call last)",
            "Cell \u001b[1;32mIn[6], line 4\u001b[0m\n\u001b[0;32m      2\u001b[0m start \u001b[39m=\u001b[39m time\u001b[39m.\u001b[39mtime()\n\u001b[0;32m      3\u001b[0m futures \u001b[39m=\u001b[39m [executor\u001b[39m.\u001b[39msubmit(house_scrapper, url) \u001b[39mfor\u001b[39;00m url \u001b[39min\u001b[39;00m url_list]\n\u001b[1;32m----> 4\u001b[0m results \u001b[39m=\u001b[39m  [item\u001b[39m.\u001b[39mresult() \u001b[39mfor\u001b[39;00m item \u001b[39min\u001b[39;00m futures]\n\u001b[0;32m      5\u001b[0m end \u001b[39m=\u001b[39m time\u001b[39m.\u001b[39mtime()\n\u001b[0;32m      6\u001b[0m \u001b[39mprint\u001b[39m(\u001b[39m\"\u001b[39m\u001b[39mTime Taken: \u001b[39m\u001b[39m{:.6f}\u001b[39;00m\u001b[39ms\u001b[39m\u001b[39m\"\u001b[39m\u001b[39m.\u001b[39mformat(end\u001b[39m-\u001b[39mstart))\n",
            "Cell \u001b[1;32mIn[6], line 4\u001b[0m, in \u001b[0;36m<listcomp>\u001b[1;34m(.0)\u001b[0m\n\u001b[0;32m      2\u001b[0m start \u001b[39m=\u001b[39m time\u001b[39m.\u001b[39mtime()\n\u001b[0;32m      3\u001b[0m futures \u001b[39m=\u001b[39m [executor\u001b[39m.\u001b[39msubmit(house_scrapper, url) \u001b[39mfor\u001b[39;00m url \u001b[39min\u001b[39;00m url_list]\n\u001b[1;32m----> 4\u001b[0m results \u001b[39m=\u001b[39m  [item\u001b[39m.\u001b[39;49mresult() \u001b[39mfor\u001b[39;00m item \u001b[39min\u001b[39;00m futures]\n\u001b[0;32m      5\u001b[0m end \u001b[39m=\u001b[39m time\u001b[39m.\u001b[39mtime()\n\u001b[0;32m      6\u001b[0m \u001b[39mprint\u001b[39m(\u001b[39m\"\u001b[39m\u001b[39mTime Taken: \u001b[39m\u001b[39m{:.6f}\u001b[39;00m\u001b[39ms\u001b[39m\u001b[39m\"\u001b[39m\u001b[39m.\u001b[39mformat(end\u001b[39m-\u001b[39mstart))\n",
            "File \u001b[1;32mC:\\Program Files\\Python310\\lib\\concurrent\\futures\\_base.py:458\u001b[0m, in \u001b[0;36mFuture.result\u001b[1;34m(self, timeout)\u001b[0m\n\u001b[0;32m    456\u001b[0m     \u001b[39mraise\u001b[39;00m CancelledError()\n\u001b[0;32m    457\u001b[0m \u001b[39melif\u001b[39;00m \u001b[39mself\u001b[39m\u001b[39m.\u001b[39m_state \u001b[39m==\u001b[39m FINISHED:\n\u001b[1;32m--> 458\u001b[0m     \u001b[39mreturn\u001b[39;00m \u001b[39mself\u001b[39;49m\u001b[39m.\u001b[39;49m__get_result()\n\u001b[0;32m    459\u001b[0m \u001b[39melse\u001b[39;00m:\n\u001b[0;32m    460\u001b[0m     \u001b[39mraise\u001b[39;00m \u001b[39mTimeoutError\u001b[39;00m()\n",
            "File \u001b[1;32mC:\\Program Files\\Python310\\lib\\concurrent\\futures\\_base.py:403\u001b[0m, in \u001b[0;36mFuture.__get_result\u001b[1;34m(self)\u001b[0m\n\u001b[0;32m    401\u001b[0m \u001b[39mif\u001b[39;00m \u001b[39mself\u001b[39m\u001b[39m.\u001b[39m_exception:\n\u001b[0;32m    402\u001b[0m     \u001b[39mtry\u001b[39;00m:\n\u001b[1;32m--> 403\u001b[0m         \u001b[39mraise\u001b[39;00m \u001b[39mself\u001b[39m\u001b[39m.\u001b[39m_exception\n\u001b[0;32m    404\u001b[0m     \u001b[39mfinally\u001b[39;00m:\n\u001b[0;32m    405\u001b[0m         \u001b[39m# Break a reference cycle with the exception in self._exception\u001b[39;00m\n\u001b[0;32m    406\u001b[0m         \u001b[39mself\u001b[39m \u001b[39m=\u001b[39m \u001b[39mNone\u001b[39;00m\n",
            "\u001b[1;31mBrokenProcessPool\u001b[0m: A process in the process pool was terminated abruptly while the future was running or pending."
          ]
        }
      ],
      "source": [
        "with ProcessPoolExecutor(max_workers=10) as executor:\n",
        "    start = time.time()\n",
        "    futures = [executor.submit(house_scrapper, url) for url in url_list]\n",
        "    results =  [item.result() for item in futures]\n",
        "    end = time.time()\n",
        "    print(\"Time Taken: {:.6f}s\".format(end-start))\n",
        "    print(results)"
      ]
    }
  ],
  "metadata": {
    "colab": {
      "provenance": []
    },
    "kernelspec": {
      "display_name": "Python 3",
      "name": "python3"
    },
    "language_info": {
      "codemirror_mode": {
        "name": "ipython",
        "version": 3
      },
      "file_extension": ".py",
      "mimetype": "text/x-python",
      "name": "python",
      "nbconvert_exporter": "python",
      "pygments_lexer": "ipython3",
      "version": "3.10.7"
    }
  },
  "nbformat": 4,
  "nbformat_minor": 0
}
