{
 "cells": [
  {
   "attachments": {},
   "cell_type": "markdown",
   "metadata": {},
   "source": [
    "#### change this cell to code if you need to install these libraries\n",
    "!pip install lxml\n",
    "!pip install BeautifulSoup4"
   ]
  },
  {
   "cell_type": "code",
   "execution_count": 4,
   "metadata": {},
   "outputs": [],
   "source": [
    "from bs4 import BeautifulSoup\n",
    "from lxml import etree\n",
    "import requests"
   ]
  },
  {
   "attachments": {},
   "cell_type": "markdown",
   "metadata": {},
   "source": [
    "For now I've used a hardcoded url, but this particular url is quite handy: \n",
    "It lists for all houses and all appartments for the whole of Belgium and show the newest first.\n",
    "By incrementing the page number, we can go to the next one\n",
    "\n",
    "'https://www.immoweb.be/en/search/house-and-apartment/for-sale?countries=BE&orderBy=newest&page=1'"
   ]
  },
  {
   "cell_type": "code",
   "execution_count": 5,
   "metadata": {},
   "outputs": [],
   "source": [
    "#html_text= requests.get('https://www.immoweb.be/en/classified/exceptional-property/for-sale/antwerp/2000/10591004').text\n",
    "\n",
    "html_text= requests.get('https://www.immoweb.be/en/search/house-and-apartment/for-sale?countries=BE&orderBy=newest&page=1').text \n",
    "#print(html_text)"
   ]
  },
  {
   "cell_type": "code",
   "execution_count": 6,
   "metadata": {},
   "outputs": [],
   "source": [
    "soup = BeautifulSoup(html_text, 'html.parser')\n",
    "pretty = soup.prettify()\n",
    "#print(pretty)"
   ]
  },
  {
   "cell_type": "code",
   "execution_count": 11,
   "metadata": {},
   "outputs": [
    {
     "name": "stdout",
     "output_type": "stream",
     "text": [
      "['https://www.immoweb.be/en/classified/house/for-sale/braine%20l%27alleud/1420/10664357', 'https://www.immoweb.be/en/classified/apartment/for-sale/braine-l%27alleud/1420/10664356', 'https://www.immoweb.be/en/classified/house/for-sale/bouillon/6830/10339356', 'https://www.immoweb.be/en/classified/apartment/for-sale/saint-gilles/1060/10664355', 'https://www.immoweb.be/en/classified/house/for-sale/aalst/9300/10664353', 'https://www.immoweb.be/en/classified/house/for-sale/hofstade/9308/10664352', 'https://www.immoweb.be/en/classified/house/for-sale/arlon/6700/10664350', 'https://www.immoweb.be/en/classified/house/for-sale/virton/6760/10664349', 'https://www.immoweb.be/en/classified/house/for-sale/grivegn%C3%A9e/4030/10664348', 'https://www.immoweb.be/en/classified/house/for-sale/marche-en-famenne/6900/10664345', 'https://www.immoweb.be/en/classified/house/for-sale/genappe/1470/10664344', 'https://www.immoweb.be/en/classified/house/for-sale/waregem/8790/10664329', 'https://www.immoweb.be/en/classified/apartment/for-sale/waregem/8790/10664327', 'https://www.immoweb.be/en/classified/house/for-sale/genappe/1470/10664326', 'https://www.immoweb.be/en/classified/house/for-sale/sivry/6470/10621628', 'https://www.immoweb.be/en/classified/apartment/for-sale/waregem/8790/10664323', 'https://www.immoweb.be/en/classified/house/for-sale/schorisse/9688/10664322', 'https://www.immoweb.be/en/classified/house/for-sale/ronse/9600/10664321', 'https://www.immoweb.be/en/classified/house/for-sale/seilles/5300/10664319', 'https://www.immoweb.be/en/classified/apartment/for-sale/berchem%20%28antwerpen%29/2600/10664318', 'https://www.immoweb.be/en/classified/house/for-sale/braine-l%27alleud/1420/10664316', 'https://www.immoweb.be/en/classified/exceptional-property/for-sale/sint-amandsberg/9040/10664315', 'https://www.immoweb.be/en/classified/house/for-sale/gent/9000/10664313', 'https://www.immoweb.be/en/classified/house/for-sale/braives/4260/10664310', 'https://www.immoweb.be/en/classified/house/for-sale/braives/4260/10664309', 'https://www.immoweb.be/en/classified/house/for-sale/zottegem/9860/10664306', 'https://www.immoweb.be/en/classified/apartment-block/for-sale/anderlecht/1070/10664305', 'https://www.immoweb.be/en/classified/villa/for-sale/arquennes/7181/10664304', 'https://www.immoweb.be/en/classified/house/for-sale/dworp/1653/10664300', 'https://www.immoweb.be/en/classified/exceptional-property/for-sale/mainvault/7812/10664297', 'https://www.immoweb.be/en/classified/apartment/for-sale/braine-l%27alleud/1420/10664356', 'https://www.immoweb.be/en/classified/house/for-sale/bouillon/6830/10339356', 'https://www.immoweb.be/en/classified/house/for-sale/aalst/9300/10664353', 'https://www.immoweb.be/en/classified/house/for-sale/hofstade/9308/10664352', 'https://www.immoweb.be/en/classified/house/for-sale/marche-en-famenne/6900/10664345', 'https://www.immoweb.be/en/classified/house/for-sale/genappe/1470/10664344', 'https://www.immoweb.be/en/classified/house/for-sale/waregem/8790/10664329', 'https://www.immoweb.be/en/classified/apartment/for-sale/waregem/8790/10664327', 'https://www.immoweb.be/en/classified/house/for-sale/genappe/1470/10664326', 'https://www.immoweb.be/en/classified/apartment/for-sale/waregem/8790/10664323', 'https://www.immoweb.be/en/classified/house/for-sale/schorisse/9688/10664322', 'https://www.immoweb.be/en/classified/house/for-sale/ronse/9600/10664321', 'https://www.immoweb.be/en/classified/house/for-sale/seilles/5300/10664319', 'https://www.immoweb.be/en/classified/apartment/for-sale/berchem%20%28antwerpen%29/2600/10664318', 'https://www.immoweb.be/en/classified/house/for-sale/braine-l%27alleud/1420/10664316', 'https://www.immoweb.be/en/classified/exceptional-property/for-sale/sint-amandsberg/9040/10664315', 'https://www.immoweb.be/en/classified/house/for-sale/braives/4260/10664310', 'https://www.immoweb.be/en/classified/house/for-sale/braives/4260/10664309', 'https://www.immoweb.be/en/classified/house/for-sale/zottegem/9860/10664306', 'https://www.immoweb.be/en/classified/apartment-block/for-sale/anderlecht/1070/10664305', 'https://www.immoweb.be/en/classified/villa/for-sale/arquennes/7181/10664304', 'https://www.immoweb.be/en/classified/house/for-sale/dworp/1653/10664300', 'https://www.immoweb.be/en/classified/house/for-sale/humain/6900/10664293', 'https://www.immoweb.be/en/classified/house/for-sale/herentals%20%28olen%29/2200/10664292', 'https://www.immoweb.be/en/classified/house/for-sale/schaerbeek/1030/10664289', 'https://www.immoweb.be/en/classified/villa/for-sale/deux-acren/7864/10664288', 'https://www.immoweb.be/en/classified/new-real-estate-project-houses/for-sale/wellin/6921/10664281', 'https://www.immoweb.be/en/classified/villa/for-sale/lessines%20-%20deux-acren/7860/10664280', 'https://www.immoweb.be/en/classified/house/for-sale/braine-l%27alleud/1420/10664278', 'https://www.immoweb.be/en/classified/house/for-sale/zwevegem/8550/10341300']\n",
      "items on this page:  60\n"
     ]
    }
   ],
   "source": [
    "site_model = etree.HTML(str(soup))\n",
    "properties_per_page = site_model.xpath('//a[@class=\"card__title-link\"]/@href')\n",
    "#'//a[@class,\"card__title-link\"]'\n",
    "#find_all('a', class_='card__title-link')\n",
    "print(properties_per_page)\n",
    "print(\"items on this page: \", len(properties_per_page))"
   ]
  }
 ],
 "metadata": {
  "kernelspec": {
   "display_name": "Python 3",
   "language": "python",
   "name": "python3"
  },
  "language_info": {
   "codemirror_mode": {
    "name": "ipython",
    "version": 3
   },
   "file_extension": ".py",
   "mimetype": "text/x-python",
   "name": "python",
   "nbconvert_exporter": "python",
   "pygments_lexer": "ipython3",
   "version": "3.10.7"
  },
  "orig_nbformat": 4
 },
 "nbformat": 4,
 "nbformat_minor": 2
}
