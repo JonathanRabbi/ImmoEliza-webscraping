{
 "cells": [
  {
   "attachments": {},
   "cell_type": "markdown",
   "metadata": {},
   "source": [
    "#### change this cell to code if you need to install these libraries\n",
    "!pip install lxml\n",
    "!pip install BeautifulSoup4"
   ]
  },
  {
   "cell_type": "code",
   "execution_count": 4,
   "metadata": {},
   "outputs": [],
   "source": [
    "from bs4 import BeautifulSoup\n",
    "from lxml import etree\n",
    "import requests"
   ]
  },
  {
   "attachments": {},
   "cell_type": "markdown",
   "metadata": {},
   "source": [
    "For now I've used a hardcoded url, but this particular url is quite handy: \n",
    "It lists for all houses and all appartments for the whole of Belgium and show the newest first.\n",
    "By incrementing the page number, we can go to the next one\n",
    "\n",
    "'https://www.immoweb.be/en/search/house-and-apartment/for-sale?countries=BE&orderBy=newest&page=1'"
   ]
  },
  {
   "cell_type": "code",
   "execution_count": 12,
   "metadata": {},
   "outputs": [],
   "source": [
    "#html_text= requests.get('https://www.immoweb.be/en/classified/exceptional-property/for-sale/antwerp/2000/10591004').text\n",
    "#https://www.immoweb.be/en/search/house-and-apartment/for-sale/Theux/4910?countries=BE&page=1&orderBy=relevance\n",
    "#https://www.immoweb.be/en/search/house-and-apartment/for-sale/Theux/4910?countries=BE&page=1&orderBy=relevance\n",
    "html_text= requests.get('https://www.immoweb.be/en/search/house-and-apartment/for-sale/Theux/4910?countries=BE&page=1&orderBy=relevance').text \n",
    "#print(html_text)"
   ]
  },
  {
   "cell_type": "code",
   "execution_count": 13,
   "metadata": {},
   "outputs": [],
   "source": [
    "soup = BeautifulSoup(html_text, 'html.parser')\n",
    "pretty = soup.prettify()\n",
    "#print(pretty)"
   ]
  },
  {
   "cell_type": "code",
   "execution_count": 14,
   "metadata": {},
   "outputs": [
    {
     "name": "stdout",
     "output_type": "stream",
     "text": [
      "['https://www.immoweb.be/en/classified/castle/for-sale/theux/4910/9948962', 'https://www.immoweb.be/en/classified/house/for-sale/theux/4910/10560721', 'https://www.immoweb.be/en/classified/villa/for-sale/theux/4910/10663657', 'https://www.immoweb.be/en/classified/house/for-sale/theux/4910/10446963', 'https://www.immoweb.be/en/classified/duplex/for-sale/theux/4910/10545190', 'https://www.immoweb.be/en/classified/villa/for-sale/theux/4910/10609561', 'https://www.immoweb.be/en/classified/ground-floor/for-sale/theux/4910/10531794', 'https://www.immoweb.be/en/classified/house/for-sale/theux/4910/10628651', 'https://www.immoweb.be/en/classified/house/for-sale/theux/4910/10494656', 'https://www.immoweb.be/en/classified/farmhouse/for-sale/la%20reid/4910/10528664', 'https://www.immoweb.be/en/classified/manor-house/for-sale/theux/4910/10184666', 'https://www.immoweb.be/en/classified/duplex/for-sale/theux/4910/10588831', 'https://www.immoweb.be/en/classified/apartment/for-sale/theux/4910/10592469', 'https://www.immoweb.be/en/classified/apartment/for-sale/theux/4910/10440145', 'https://www.immoweb.be/en/classified/apartment/for-sale/theux/4910/10394149', 'https://www.immoweb.be/en/classified/apartment/for-sale/theux/4910/10440146', 'https://www.immoweb.be/en/classified/house/for-sale/jevoumont/4910/10543020', 'https://www.immoweb.be/en/classified/villa/for-sale/theux/4910/10530284', 'https://www.immoweb.be/en/classified/apartment/for-sale/theux/4910/10301944', 'https://www.immoweb.be/en/classified/castle/for-sale/theux/4910/10512988', 'https://www.immoweb.be/en/classified/duplex/for-sale/theux/4910/10509768', 'https://www.immoweb.be/en/classified/mixed-use-building/for-sale/la%20reid/4910/10184783', 'https://www.immoweb.be/en/classified/castle/for-sale/theux/4910/9318244', 'https://www.immoweb.be/en/classified/farmhouse/for-sale/polleur/4910/10654462', 'https://www.immoweb.be/en/classified/apartment/for-sale/theux/4910/10647743', 'https://www.immoweb.be/en/classified/bungalow/for-sale/polleur/4910/10556610', 'https://www.immoweb.be/en/classified/apartment/for-sale/theux/4910/10353115', 'https://www.immoweb.be/en/classified/bungalow/for-sale/polleur/4910/10656046', 'https://www.immoweb.be/en/classified/house/for-sale/theux/4910/10583902', 'https://www.immoweb.be/en/classified/house/for-sale/theux/4910/10635409', 'https://www.immoweb.be/en/classified/villa/for-sale/theux/4910/10663657', 'https://www.immoweb.be/en/classified/villa/for-sale/theux/4910/10655272', 'https://www.immoweb.be/en/classified/farmhouse/for-sale/polleur/4910/10654462', 'https://www.immoweb.be/en/classified/apartment-block/for-sale/theux/4910/10652648', 'https://www.immoweb.be/en/classified/apartment/for-sale/theux/4910/10647743', 'https://www.immoweb.be/en/classified/house/for-sale/theux/4910/10639745', 'https://www.immoweb.be/en/classified/house/for-sale/theux/4910/10638967', 'https://www.immoweb.be/en/classified/house/for-sale/theux/4910/10635409', 'https://www.immoweb.be/en/classified/house/for-sale/theux/4910/10561831', 'https://www.immoweb.be/en/classified/apartment/for-sale/theux/4910/10353115', 'https://www.immoweb.be/en/classified/house/for-sale/theux/4910/10574867', 'https://www.immoweb.be/en/classified/bungalow/for-sale/la%20reid/4910/10542547', 'https://www.immoweb.be/en/classified/apartment/for-sale/theux/4910/10592469', 'https://www.immoweb.be/en/classified/duplex/for-sale/theux/4910/10588831', 'https://www.immoweb.be/en/classified/house/for-sale/theux/4910/10583902', 'https://www.immoweb.be/en/classified/house/for-sale/theux/4910/10580970', 'https://www.immoweb.be/en/classified/apartment/for-sale/theux/4910/10440146', 'https://www.immoweb.be/en/classified/house/for-sale/theux/4910/10560721', 'https://www.immoweb.be/en/classified/bungalow/for-sale/polleur/4910/10556610', 'https://www.immoweb.be/en/classified/duplex/for-sale/theux/4910/10545190', 'https://www.immoweb.be/en/classified/villa/for-sale/theux/4910/10543431', 'https://www.immoweb.be/en/classified/house/for-sale/jevoumont/4910/10543020', 'https://www.immoweb.be/en/classified/ground-floor/for-sale/theux/4910/10531794', 'https://www.immoweb.be/en/classified/villa/for-sale/theux/4910/10530284', 'https://www.immoweb.be/en/classified/castle/for-sale/theux/4910/10512988', 'https://www.immoweb.be/en/classified/duplex/for-sale/theux/4910/10509768', 'https://www.immoweb.be/en/classified/house/for-sale/theux/4910/10494656', 'https://www.immoweb.be/en/classified/house/for-sale/theux/4910/10446963', 'https://www.immoweb.be/en/classified/apartment/for-sale/theux/4910/10440145', 'https://www.immoweb.be/en/classified/apartment/for-sale/theux/4910/10394149']\n",
      "items on this page:  60\n"
     ]
    }
   ],
   "source": [
    "site_model = etree.HTML(str(soup))\n",
    "properties_per_page = site_model.xpath('//a[@class=\"card__title-link\"]/@href')\n",
    "#'//a[@class,\"card__title-link\"]'\n",
    "#find_all('a', class_='card__title-link')\n",
    "print(properties_per_page)\n",
    "print(\"items on this page: \", len(properties_per_page))"
   ]
  }
 ],
 "metadata": {
  "kernelspec": {
   "display_name": "Python 3",
   "language": "python",
   "name": "python3"
  },
  "language_info": {
   "codemirror_mode": {
    "name": "ipython",
    "version": 3
   },
   "file_extension": ".py",
   "mimetype": "text/x-python",
   "name": "python",
   "nbconvert_exporter": "python",
   "pygments_lexer": "ipython3",
   "version": "3.10.7"
  },
  "orig_nbformat": 4
 },
 "nbformat": 4,
 "nbformat_minor": 2
}
