{
 "cells": [
  {
   "attachments": {},
   "cell_type": "markdown",
   "metadata": {},
   "source": [
    "# Getting a list of properties\n",
    "\n",
    "In this Notebook I try to get a list of URLs for immoweb properties."
   ]
  },
  {
   "attachments": {},
   "cell_type": "markdown",
   "metadata": {},
   "source": [
    "###### change this cell to code if you need to install these libraries\n",
    "!pip install lxml\n",
    "!pip install BeautifulSoup4\n",
    "!pip install requests"
   ]
  },
  {
   "cell_type": "code",
   "execution_count": 19,
   "metadata": {},
   "outputs": [],
   "source": [
    "from bs4 import BeautifulSoup\n",
    "from lxml import etree\n",
    "import requests"
   ]
  },
  {
   "attachments": {},
   "cell_type": "markdown",
   "metadata": {},
   "source": [
    "For now I've used a hardcoded url, but this particular url is quite handy: \n",
    "It lists for all houses and all appartments for the whole of Belgium and show the newest first.\n",
    "By incrementing the page number, we can go to the next one\n",
    "\n",
    "'https://www.immoweb.be/en/search/house-and-apartment/for-sale?countries=BE&orderBy=newest&page=1'"
   ]
  },
  {
   "cell_type": "code",
   "execution_count": 20,
   "metadata": {},
   "outputs": [],
   "source": [
    "# html_text= requests.get('https://www.immoweb.be/en/classified/exceptional-property/for-sale/antwerp/2000/10591004').text  #property result used as example by Jonathan\n",
    "# \"https://www.immoweb.be/en/search/house-and-apartment/for-sale?countries=BE&orderBy=newest&page=1\" #starting point for all housing properties of Belgium, sorted starting from newest\n",
    "# \"https://www.immoweb.be/en/search/house-and-apartment/for-sale/Theux/4910?countries=BE&page=1&orderBy=newest\"   #4910 to have a pool of (47) but some oddball properties like castle, farmhouse and duplex\n",
    "base_url = 'https://www.immoweb.be/en/search/house-and-apartment/for-sale?countries=BE&postalCodes=BE-4920,4910&orderBy=newest&page='     #4910 & 4920 to have 5 result pages, 112 results\n",
    "page_url = base_url\n",
    "\n",
    "html_text= requests.get(base_url).text \n",
    "#str(base_url)\n",
    "#print(html_text)"
   ]
  },
  {
   "cell_type": "code",
   "execution_count": 21,
   "metadata": {},
   "outputs": [],
   "source": [
    "soup = BeautifulSoup(html_text, 'html.parser')\n",
    "pretty = soup.prettify()\n",
    "#print(pretty)"
   ]
  },
  {
   "cell_type": "code",
   "execution_count": 22,
   "metadata": {},
   "outputs": [
    {
     "name": "stdout",
     "output_type": "stream",
     "text": [
      "['https://www.immoweb.be/en/classified/house/for-sale/aywaille%20sougn%C3%A9-remouchamps/4920/10663667', 'https://www.immoweb.be/en/classified/villa/for-sale/aywaille/4920/10661605', 'https://www.immoweb.be/en/classified/villa/for-sale/aywaille/4920/10660061', 'https://www.immoweb.be/en/classified/house/for-sale/aywaille/4920/10660060', 'https://www.immoweb.be/en/classified/house/for-sale/sougn%C3%89-remouchamps/4920/10658556', 'https://www.immoweb.be/en/classified/house/for-sale/aywaille/4920/10658163', 'https://www.immoweb.be/en/classified/villa/for-sale/aywaille/4920/10651067', 'https://www.immoweb.be/en/classified/house/for-sale/aywaille/4920/10648619', 'https://www.immoweb.be/en/classified/apartment/for-sale/aywaille/4920/10643308', 'https://www.immoweb.be/en/classified/villa/for-sale/aywaille/4920/10641572', 'https://www.immoweb.be/en/classified/house/for-sale/aywaille/4920/10639606', 'https://www.immoweb.be/en/classified/house/for-sale/aywaille%20harz%C3%A9/4920/10639182', 'https://www.immoweb.be/en/classified/mixed-use-building/for-sale/aywaille/4920/10622435', 'https://www.immoweb.be/en/classified/bungalow/for-sale/aywaille/4920/10619190', 'https://www.immoweb.be/en/classified/house/for-sale/aywaille/4920/10617582', 'https://www.immoweb.be/en/classified/mixed-use-building/for-sale/aywaille/4920/10616382', 'https://www.immoweb.be/en/classified/mixed-use-building/for-sale/aywaille/4920/10613517', 'https://www.immoweb.be/en/classified/villa/for-sale/aywaille/4920/10609761', 'https://www.immoweb.be/en/classified/house/for-sale/aywaille/4920/10609759', 'https://www.immoweb.be/en/classified/house/for-sale/aywaille/4920/10605215', 'https://www.immoweb.be/en/classified/house/for-sale/aywaille/4920/10600649', 'https://www.immoweb.be/en/classified/apartment/for-sale/aywaille/4920/10599273', 'https://www.immoweb.be/en/classified/apartment/for-sale/aywaille/4920/10599271', 'https://www.immoweb.be/en/classified/house/for-sale/aywaille/4920/10591077', 'https://www.immoweb.be/en/classified/apartment-block/for-sale/aywaille/4920/10581207', 'https://www.immoweb.be/en/classified/house/for-sale/aywaille/4920/10581205', 'https://www.immoweb.be/en/classified/house/for-sale/aywaille/4920/10580798', 'https://www.immoweb.be/en/classified/house/for-sale/harz%C3%89/4920/10578860', 'https://www.immoweb.be/en/classified/house/for-sale/aywaille/4920/10578256', 'https://www.immoweb.be/en/classified/chalet/for-sale/aywaille/4920/10576010']\n",
      "items on this page:  30\n",
      "['https://www.immoweb.be/en/classified/villa/for-sale/aywaille/4920/10651067', 'https://www.immoweb.be/en/classified/house/for-sale/aywaille/4920/10660060', 'https://www.immoweb.be/en/classified/mixed-use-building/for-sale/aywaille/4920/10622435', 'https://www.immoweb.be/en/classified/house/for-sale/aywaille/4920/10581205', 'https://www.immoweb.be/en/classified/villa/for-sale/aywaille/4920/10641572', 'https://www.immoweb.be/en/classified/house/for-sale/aywaille%20sougn%C3%A9-remouchamps/4920/10663667', 'https://www.immoweb.be/en/classified/house/for-sale/aywaille/4920/10600649', 'https://www.immoweb.be/en/classified/mixed-use-building/for-sale/aywaille/4920/10616382', 'https://www.immoweb.be/en/classified/house/for-sale/aywaille/4920/10617582', 'https://www.immoweb.be/en/classified/house/for-sale/aywaille/4920/10658163', 'https://www.immoweb.be/en/classified/apartment/for-sale/aywaille/4920/10599271', 'https://www.immoweb.be/en/classified/villa/for-sale/aywaille/4920/10661605', 'https://www.immoweb.be/en/classified/house/for-sale/aywaille/4920/10639606', 'https://www.immoweb.be/en/classified/house/for-sale/aywaille/4920/10609759', 'https://www.immoweb.be/en/classified/apartment/for-sale/aywaille/4920/10643308', 'https://www.immoweb.be/en/classified/villa/for-sale/aywaille/4920/10609761', 'https://www.immoweb.be/en/classified/house/for-sale/aywaille%20harz%C3%A9/4920/10639182', 'https://www.immoweb.be/en/classified/house/for-sale/aywaille/4920/10605215', 'https://www.immoweb.be/en/classified/house/for-sale/aywaille/4920/10591077', 'https://www.immoweb.be/en/classified/villa/for-sale/aywaille/4920/10660061', 'https://www.immoweb.be/en/classified/house/for-sale/sougn%C3%89-remouchamps/4920/10658556', 'https://www.immoweb.be/en/classified/mixed-use-building/for-sale/aywaille/4920/10613517', 'https://www.immoweb.be/en/classified/apartment-block/for-sale/aywaille/4920/10581207', 'https://www.immoweb.be/en/classified/house/for-sale/harz%C3%89/4920/10578860', 'https://www.immoweb.be/en/classified/house/for-sale/aywaille/4920/10648619', 'https://www.immoweb.be/en/classified/apartment/for-sale/aywaille/4920/10599273', 'https://www.immoweb.be/en/classified/bungalow/for-sale/aywaille/4920/10619190', 'https://www.immoweb.be/en/classified/chalet/for-sale/aywaille/4920/10576010', 'https://www.immoweb.be/en/classified/house/for-sale/aywaille/4920/10580798', 'https://www.immoweb.be/en/classified/house/for-sale/aywaille/4920/10578256']\n",
      "items on this page:  30\n"
     ]
    }
   ],
   "source": [
    "\"\"\"extract the urls of all search results from the page\"\"\"\n",
    "site_model = etree.HTML(str(soup))\n",
    "properties_per_page = site_model.xpath('//main/div//a[@class=\"card__title-link\"]/@href') #creates a list of all search results (and excludes \"similar properties\" and \"sponsored properties\" )\n",
    "print(properties_per_page)\n",
    "print(\"items on this page: \", len(properties_per_page))\n",
    "unique_properties_per_page = list(set(properties_per_page)) #create a list of unique properties by creating a set and turning that into a list again\n",
    "print(unique_properties_per_page)\n",
    "print(\"items on this page: \", len(unique_properties_per_page))\n"
   ]
  },
  {
   "cell_type": "code",
   "execution_count": 23,
   "metadata": {},
   "outputs": [
    {
     "name": "stdout",
     "output_type": "stream",
     "text": [
      "[]\n"
     ]
    }
   ],
   "source": [
    "\"\"\"Get the number of pages\"\"\"\n",
    "list_of_pages = site_model.xpath('//*[@id=\"searchResults\"]/div[3]/div/div[1]/div[1]/div[1]/div/div[1]/div/nav/ul/li[-1]')\n",
    "print(list_of_pages)"
   ]
  },
  {
   "cell_type": "code",
   "execution_count": 24,
   "metadata": {},
   "outputs": [
    {
     "name": "stdout",
     "output_type": "stream",
     "text": [
      "https://www.immoweb.be/en/search/house-and-apartment/for-sale?countries=BE&postalCodes=BE-4920,4910&orderBy=newest&page=1\n",
      "https://www.immoweb.be/en/search/house-and-apartment/for-sale?countries=BE&postalCodes=BE-4920,4910&orderBy=newest&page=2\n",
      "https://www.immoweb.be/en/search/house-and-apartment/for-sale?countries=BE&postalCodes=BE-4920,4910&orderBy=newest&page=3\n",
      "https://www.immoweb.be/en/search/house-and-apartment/for-sale?countries=BE&postalCodes=BE-4920,4910&orderBy=newest&page=4\n",
      "https://www.immoweb.be/en/search/house-and-apartment/for-sale?countries=BE&postalCodes=BE-4920,4910&orderBy=newest&page=5\n"
     ]
    }
   ],
   "source": [
    "for i in range (1,6):\n",
    "    page_url = base_url + str(i)\n",
    "    print(page_url)"
   ]
  }
 ],
 "metadata": {
  "kernelspec": {
   "display_name": "Python 3",
   "language": "python",
   "name": "python3"
  },
  "language_info": {
   "codemirror_mode": {
    "name": "ipython",
    "version": 3
   },
   "file_extension": ".py",
   "mimetype": "text/x-python",
   "name": "python",
   "nbconvert_exporter": "python",
   "pygments_lexer": "ipython3",
   "version": "3.10.7"
  },
  "orig_nbformat": 4
 },
 "nbformat": 4,
 "nbformat_minor": 2
}
